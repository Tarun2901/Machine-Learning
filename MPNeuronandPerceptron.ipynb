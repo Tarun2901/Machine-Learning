{
  "nbformat": 4,
  "nbformat_minor": 0,
  "metadata": {
    "colab": {
      "name": "MPNeuronandPerceptron.ipynb",
      "provenance": []
    },
    "kernelspec": {
      "name": "python3",
      "display_name": "Python 3"
    }
  },
  "cells": [
    {
      "cell_type": "markdown",
      "metadata": {
        "id": "FX93r4wVTlIU"
      },
      "source": [
        "# Loading Dataset\n"
      ]
    },
    {
      "cell_type": "code",
      "metadata": {
        "id": "u6sZzzOFK2UM"
      },
      "source": [
        "import sklearn.datasets\n",
        "import numpy as np"
      ],
      "execution_count": 113,
      "outputs": []
    },
    {
      "cell_type": "code",
      "metadata": {
        "id": "EY2rIeOsPsP2"
      },
      "source": [
        "breast_cancer = sklearn.datasets.load_breast_cancer()"
      ],
      "execution_count": 114,
      "outputs": []
    },
    {
      "cell_type": "code",
      "metadata": {
        "id": "-eUVF30oP2FQ"
      },
      "source": [
        "X = breast_cancer.data\n",
        "Y = breast_cancer.target"
      ],
      "execution_count": 115,
      "outputs": []
    },
    {
      "cell_type": "code",
      "metadata": {
        "id": "A6rrTZ1jQARI",
        "outputId": "7df12872-a80a-4159-989b-9612ec626400",
        "colab": {
          "base_uri": "https://localhost:8080/",
          "height": 0
        }
      },
      "source": [
        "print(X)\n",
        "#X has sequence of features in each row\n",
        "print(Y)"
      ],
      "execution_count": 116,
      "outputs": [
        {
          "output_type": "stream",
          "text": [
            "[[1.799e+01 1.038e+01 1.228e+02 ... 2.654e-01 4.601e-01 1.189e-01]\n",
            " [2.057e+01 1.777e+01 1.329e+02 ... 1.860e-01 2.750e-01 8.902e-02]\n",
            " [1.969e+01 2.125e+01 1.300e+02 ... 2.430e-01 3.613e-01 8.758e-02]\n",
            " ...\n",
            " [1.660e+01 2.808e+01 1.083e+02 ... 1.418e-01 2.218e-01 7.820e-02]\n",
            " [2.060e+01 2.933e+01 1.401e+02 ... 2.650e-01 4.087e-01 1.240e-01]\n",
            " [7.760e+00 2.454e+01 4.792e+01 ... 0.000e+00 2.871e-01 7.039e-02]]\n",
            "[0 0 0 0 0 0 0 0 0 0 0 0 0 0 0 0 0 0 0 1 1 1 0 0 0 0 0 0 0 0 0 0 0 0 0 0 0\n",
            " 1 0 0 0 0 0 0 0 0 1 0 1 1 1 1 1 0 0 1 0 0 1 1 1 1 0 1 0 0 1 1 1 1 0 1 0 0\n",
            " 1 0 1 0 0 1 1 1 0 0 1 0 0 0 1 1 1 0 1 1 0 0 1 1 1 0 0 1 1 1 1 0 1 1 0 1 1\n",
            " 1 1 1 1 1 1 0 0 0 1 0 0 1 1 1 0 0 1 0 1 0 0 1 0 0 1 1 0 1 1 0 1 1 1 1 0 1\n",
            " 1 1 1 1 1 1 1 1 0 1 1 1 1 0 0 1 0 1 1 0 0 1 1 0 0 1 1 1 1 0 1 1 0 0 0 1 0\n",
            " 1 0 1 1 1 0 1 1 0 0 1 0 0 0 0 1 0 0 0 1 0 1 0 1 1 0 1 0 0 0 0 1 1 0 0 1 1\n",
            " 1 0 1 1 1 1 1 0 0 1 1 0 1 1 0 0 1 0 1 1 1 1 0 1 1 1 1 1 0 1 0 0 0 0 0 0 0\n",
            " 0 0 0 0 0 0 0 1 1 1 1 1 1 0 1 0 1 1 0 1 1 0 1 0 0 1 1 1 1 1 1 1 1 1 1 1 1\n",
            " 1 0 1 1 0 1 0 1 1 1 1 1 1 1 1 1 1 1 1 1 1 0 1 1 1 0 1 0 1 1 1 1 0 0 0 1 1\n",
            " 1 1 0 1 0 1 0 1 1 1 0 1 1 1 1 1 1 1 0 0 0 1 1 1 1 1 1 1 1 1 1 1 0 0 1 0 0\n",
            " 0 1 0 0 1 1 1 1 1 0 1 1 1 1 1 0 1 1 1 0 1 1 0 0 1 1 1 1 1 1 0 1 1 1 1 1 1\n",
            " 1 0 1 1 1 1 1 0 1 1 0 1 1 1 1 1 1 1 1 1 1 1 1 0 1 0 0 1 0 1 1 1 1 1 0 1 1\n",
            " 0 1 0 1 1 0 1 0 1 1 1 1 1 1 1 1 0 0 1 1 1 1 1 1 0 1 1 1 1 1 1 1 1 1 1 0 1\n",
            " 1 1 1 1 1 1 0 1 0 1 1 0 1 1 1 1 1 0 0 1 0 1 0 1 1 1 1 1 0 1 1 0 1 0 1 0 0\n",
            " 1 1 1 0 1 1 1 1 1 1 1 1 1 1 1 0 1 0 0 1 1 1 1 1 1 1 1 1 1 1 1 1 1 1 1 1 1\n",
            " 1 1 1 1 1 1 1 0 0 0 0 0 0 1]\n"
          ],
          "name": "stdout"
        }
      ]
    },
    {
      "cell_type": "code",
      "metadata": {
        "id": "AYd7LktIQH66",
        "outputId": "fd11bc59-be55-4d67-8c46-c9e210bd90d6",
        "colab": {
          "base_uri": "https://localhost:8080/",
          "height": 0
        }
      },
      "source": [
        "print(X.shape, Y.shape)"
      ],
      "execution_count": 117,
      "outputs": [
        {
          "output_type": "stream",
          "text": [
            "(569, 30) (569,)\n"
          ],
          "name": "stdout"
        }
      ]
    },
    {
      "cell_type": "code",
      "metadata": {
        "id": "w4uzkOpnQPzE"
      },
      "source": [
        "import pandas as pd"
      ],
      "execution_count": 118,
      "outputs": []
    },
    {
      "cell_type": "code",
      "metadata": {
        "id": "F9OOcOErQXT_"
      },
      "source": [
        "data = pd.DataFrame(breast_cancer.data, columns = breast_cancer.feature_names )\n",
        "##Dataframe Two-dimensional, size-mutable, potentially heterogeneous tabular data."
      ],
      "execution_count": 119,
      "outputs": []
    },
    {
      "cell_type": "code",
      "metadata": {
        "id": "9YnpsA4yQfDv"
      },
      "source": [
        "data['class'] = breast_cancer.target"
      ],
      "execution_count": 120,
      "outputs": []
    },
    {
      "cell_type": "code",
      "metadata": {
        "id": "X9sZKHfQQhBT",
        "outputId": "3d1c97f1-bdd7-4d8c-8079-727b22e33670",
        "colab": {
          "base_uri": "https://localhost:8080/",
          "height": 0
        }
      },
      "source": [
        "data.head()"
      ],
      "execution_count": 121,
      "outputs": [
        {
          "output_type": "execute_result",
          "data": {
            "text/html": [
              "<div>\n",
              "<style scoped>\n",
              "    .dataframe tbody tr th:only-of-type {\n",
              "        vertical-align: middle;\n",
              "    }\n",
              "\n",
              "    .dataframe tbody tr th {\n",
              "        vertical-align: top;\n",
              "    }\n",
              "\n",
              "    .dataframe thead th {\n",
              "        text-align: right;\n",
              "    }\n",
              "</style>\n",
              "<table border=\"1\" class=\"dataframe\">\n",
              "  <thead>\n",
              "    <tr style=\"text-align: right;\">\n",
              "      <th></th>\n",
              "      <th>mean radius</th>\n",
              "      <th>mean texture</th>\n",
              "      <th>mean perimeter</th>\n",
              "      <th>mean area</th>\n",
              "      <th>mean smoothness</th>\n",
              "      <th>mean compactness</th>\n",
              "      <th>mean concavity</th>\n",
              "      <th>mean concave points</th>\n",
              "      <th>mean symmetry</th>\n",
              "      <th>mean fractal dimension</th>\n",
              "      <th>radius error</th>\n",
              "      <th>texture error</th>\n",
              "      <th>perimeter error</th>\n",
              "      <th>area error</th>\n",
              "      <th>smoothness error</th>\n",
              "      <th>compactness error</th>\n",
              "      <th>concavity error</th>\n",
              "      <th>concave points error</th>\n",
              "      <th>symmetry error</th>\n",
              "      <th>fractal dimension error</th>\n",
              "      <th>worst radius</th>\n",
              "      <th>worst texture</th>\n",
              "      <th>worst perimeter</th>\n",
              "      <th>worst area</th>\n",
              "      <th>worst smoothness</th>\n",
              "      <th>worst compactness</th>\n",
              "      <th>worst concavity</th>\n",
              "      <th>worst concave points</th>\n",
              "      <th>worst symmetry</th>\n",
              "      <th>worst fractal dimension</th>\n",
              "      <th>class</th>\n",
              "    </tr>\n",
              "  </thead>\n",
              "  <tbody>\n",
              "    <tr>\n",
              "      <th>0</th>\n",
              "      <td>17.99</td>\n",
              "      <td>10.38</td>\n",
              "      <td>122.80</td>\n",
              "      <td>1001.0</td>\n",
              "      <td>0.11840</td>\n",
              "      <td>0.27760</td>\n",
              "      <td>0.3001</td>\n",
              "      <td>0.14710</td>\n",
              "      <td>0.2419</td>\n",
              "      <td>0.07871</td>\n",
              "      <td>1.0950</td>\n",
              "      <td>0.9053</td>\n",
              "      <td>8.589</td>\n",
              "      <td>153.40</td>\n",
              "      <td>0.006399</td>\n",
              "      <td>0.04904</td>\n",
              "      <td>0.05373</td>\n",
              "      <td>0.01587</td>\n",
              "      <td>0.03003</td>\n",
              "      <td>0.006193</td>\n",
              "      <td>25.38</td>\n",
              "      <td>17.33</td>\n",
              "      <td>184.60</td>\n",
              "      <td>2019.0</td>\n",
              "      <td>0.1622</td>\n",
              "      <td>0.6656</td>\n",
              "      <td>0.7119</td>\n",
              "      <td>0.2654</td>\n",
              "      <td>0.4601</td>\n",
              "      <td>0.11890</td>\n",
              "      <td>0</td>\n",
              "    </tr>\n",
              "    <tr>\n",
              "      <th>1</th>\n",
              "      <td>20.57</td>\n",
              "      <td>17.77</td>\n",
              "      <td>132.90</td>\n",
              "      <td>1326.0</td>\n",
              "      <td>0.08474</td>\n",
              "      <td>0.07864</td>\n",
              "      <td>0.0869</td>\n",
              "      <td>0.07017</td>\n",
              "      <td>0.1812</td>\n",
              "      <td>0.05667</td>\n",
              "      <td>0.5435</td>\n",
              "      <td>0.7339</td>\n",
              "      <td>3.398</td>\n",
              "      <td>74.08</td>\n",
              "      <td>0.005225</td>\n",
              "      <td>0.01308</td>\n",
              "      <td>0.01860</td>\n",
              "      <td>0.01340</td>\n",
              "      <td>0.01389</td>\n",
              "      <td>0.003532</td>\n",
              "      <td>24.99</td>\n",
              "      <td>23.41</td>\n",
              "      <td>158.80</td>\n",
              "      <td>1956.0</td>\n",
              "      <td>0.1238</td>\n",
              "      <td>0.1866</td>\n",
              "      <td>0.2416</td>\n",
              "      <td>0.1860</td>\n",
              "      <td>0.2750</td>\n",
              "      <td>0.08902</td>\n",
              "      <td>0</td>\n",
              "    </tr>\n",
              "    <tr>\n",
              "      <th>2</th>\n",
              "      <td>19.69</td>\n",
              "      <td>21.25</td>\n",
              "      <td>130.00</td>\n",
              "      <td>1203.0</td>\n",
              "      <td>0.10960</td>\n",
              "      <td>0.15990</td>\n",
              "      <td>0.1974</td>\n",
              "      <td>0.12790</td>\n",
              "      <td>0.2069</td>\n",
              "      <td>0.05999</td>\n",
              "      <td>0.7456</td>\n",
              "      <td>0.7869</td>\n",
              "      <td>4.585</td>\n",
              "      <td>94.03</td>\n",
              "      <td>0.006150</td>\n",
              "      <td>0.04006</td>\n",
              "      <td>0.03832</td>\n",
              "      <td>0.02058</td>\n",
              "      <td>0.02250</td>\n",
              "      <td>0.004571</td>\n",
              "      <td>23.57</td>\n",
              "      <td>25.53</td>\n",
              "      <td>152.50</td>\n",
              "      <td>1709.0</td>\n",
              "      <td>0.1444</td>\n",
              "      <td>0.4245</td>\n",
              "      <td>0.4504</td>\n",
              "      <td>0.2430</td>\n",
              "      <td>0.3613</td>\n",
              "      <td>0.08758</td>\n",
              "      <td>0</td>\n",
              "    </tr>\n",
              "    <tr>\n",
              "      <th>3</th>\n",
              "      <td>11.42</td>\n",
              "      <td>20.38</td>\n",
              "      <td>77.58</td>\n",
              "      <td>386.1</td>\n",
              "      <td>0.14250</td>\n",
              "      <td>0.28390</td>\n",
              "      <td>0.2414</td>\n",
              "      <td>0.10520</td>\n",
              "      <td>0.2597</td>\n",
              "      <td>0.09744</td>\n",
              "      <td>0.4956</td>\n",
              "      <td>1.1560</td>\n",
              "      <td>3.445</td>\n",
              "      <td>27.23</td>\n",
              "      <td>0.009110</td>\n",
              "      <td>0.07458</td>\n",
              "      <td>0.05661</td>\n",
              "      <td>0.01867</td>\n",
              "      <td>0.05963</td>\n",
              "      <td>0.009208</td>\n",
              "      <td>14.91</td>\n",
              "      <td>26.50</td>\n",
              "      <td>98.87</td>\n",
              "      <td>567.7</td>\n",
              "      <td>0.2098</td>\n",
              "      <td>0.8663</td>\n",
              "      <td>0.6869</td>\n",
              "      <td>0.2575</td>\n",
              "      <td>0.6638</td>\n",
              "      <td>0.17300</td>\n",
              "      <td>0</td>\n",
              "    </tr>\n",
              "    <tr>\n",
              "      <th>4</th>\n",
              "      <td>20.29</td>\n",
              "      <td>14.34</td>\n",
              "      <td>135.10</td>\n",
              "      <td>1297.0</td>\n",
              "      <td>0.10030</td>\n",
              "      <td>0.13280</td>\n",
              "      <td>0.1980</td>\n",
              "      <td>0.10430</td>\n",
              "      <td>0.1809</td>\n",
              "      <td>0.05883</td>\n",
              "      <td>0.7572</td>\n",
              "      <td>0.7813</td>\n",
              "      <td>5.438</td>\n",
              "      <td>94.44</td>\n",
              "      <td>0.011490</td>\n",
              "      <td>0.02461</td>\n",
              "      <td>0.05688</td>\n",
              "      <td>0.01885</td>\n",
              "      <td>0.01756</td>\n",
              "      <td>0.005115</td>\n",
              "      <td>22.54</td>\n",
              "      <td>16.67</td>\n",
              "      <td>152.20</td>\n",
              "      <td>1575.0</td>\n",
              "      <td>0.1374</td>\n",
              "      <td>0.2050</td>\n",
              "      <td>0.4000</td>\n",
              "      <td>0.1625</td>\n",
              "      <td>0.2364</td>\n",
              "      <td>0.07678</td>\n",
              "      <td>0</td>\n",
              "    </tr>\n",
              "  </tbody>\n",
              "</table>\n",
              "</div>"
            ],
            "text/plain": [
              "   mean radius  mean texture  ...  worst fractal dimension  class\n",
              "0        17.99         10.38  ...                  0.11890      0\n",
              "1        20.57         17.77  ...                  0.08902      0\n",
              "2        19.69         21.25  ...                  0.08758      0\n",
              "3        11.42         20.38  ...                  0.17300      0\n",
              "4        20.29         14.34  ...                  0.07678      0\n",
              "\n",
              "[5 rows x 31 columns]"
            ]
          },
          "metadata": {
            "tags": []
          },
          "execution_count": 121
        }
      ]
    },
    {
      "cell_type": "code",
      "metadata": {
        "id": "gLhWYaJCRFQT",
        "outputId": "0c27952c-efb1-43cd-bc0e-d61d72335521",
        "colab": {
          "base_uri": "https://localhost:8080/",
          "height": 0
        }
      },
      "source": [
        "data.describe()"
      ],
      "execution_count": 122,
      "outputs": [
        {
          "output_type": "execute_result",
          "data": {
            "text/html": [
              "<div>\n",
              "<style scoped>\n",
              "    .dataframe tbody tr th:only-of-type {\n",
              "        vertical-align: middle;\n",
              "    }\n",
              "\n",
              "    .dataframe tbody tr th {\n",
              "        vertical-align: top;\n",
              "    }\n",
              "\n",
              "    .dataframe thead th {\n",
              "        text-align: right;\n",
              "    }\n",
              "</style>\n",
              "<table border=\"1\" class=\"dataframe\">\n",
              "  <thead>\n",
              "    <tr style=\"text-align: right;\">\n",
              "      <th></th>\n",
              "      <th>mean radius</th>\n",
              "      <th>mean texture</th>\n",
              "      <th>mean perimeter</th>\n",
              "      <th>mean area</th>\n",
              "      <th>mean smoothness</th>\n",
              "      <th>mean compactness</th>\n",
              "      <th>mean concavity</th>\n",
              "      <th>mean concave points</th>\n",
              "      <th>mean symmetry</th>\n",
              "      <th>mean fractal dimension</th>\n",
              "      <th>radius error</th>\n",
              "      <th>texture error</th>\n",
              "      <th>perimeter error</th>\n",
              "      <th>area error</th>\n",
              "      <th>smoothness error</th>\n",
              "      <th>compactness error</th>\n",
              "      <th>concavity error</th>\n",
              "      <th>concave points error</th>\n",
              "      <th>symmetry error</th>\n",
              "      <th>fractal dimension error</th>\n",
              "      <th>worst radius</th>\n",
              "      <th>worst texture</th>\n",
              "      <th>worst perimeter</th>\n",
              "      <th>worst area</th>\n",
              "      <th>worst smoothness</th>\n",
              "      <th>worst compactness</th>\n",
              "      <th>worst concavity</th>\n",
              "      <th>worst concave points</th>\n",
              "      <th>worst symmetry</th>\n",
              "      <th>worst fractal dimension</th>\n",
              "      <th>class</th>\n",
              "    </tr>\n",
              "  </thead>\n",
              "  <tbody>\n",
              "    <tr>\n",
              "      <th>count</th>\n",
              "      <td>569.000000</td>\n",
              "      <td>569.000000</td>\n",
              "      <td>569.000000</td>\n",
              "      <td>569.000000</td>\n",
              "      <td>569.000000</td>\n",
              "      <td>569.000000</td>\n",
              "      <td>569.000000</td>\n",
              "      <td>569.000000</td>\n",
              "      <td>569.000000</td>\n",
              "      <td>569.000000</td>\n",
              "      <td>569.000000</td>\n",
              "      <td>569.000000</td>\n",
              "      <td>569.000000</td>\n",
              "      <td>569.000000</td>\n",
              "      <td>569.000000</td>\n",
              "      <td>569.000000</td>\n",
              "      <td>569.000000</td>\n",
              "      <td>569.000000</td>\n",
              "      <td>569.000000</td>\n",
              "      <td>569.000000</td>\n",
              "      <td>569.000000</td>\n",
              "      <td>569.000000</td>\n",
              "      <td>569.000000</td>\n",
              "      <td>569.000000</td>\n",
              "      <td>569.000000</td>\n",
              "      <td>569.000000</td>\n",
              "      <td>569.000000</td>\n",
              "      <td>569.000000</td>\n",
              "      <td>569.000000</td>\n",
              "      <td>569.000000</td>\n",
              "      <td>569.000000</td>\n",
              "    </tr>\n",
              "    <tr>\n",
              "      <th>mean</th>\n",
              "      <td>14.127292</td>\n",
              "      <td>19.289649</td>\n",
              "      <td>91.969033</td>\n",
              "      <td>654.889104</td>\n",
              "      <td>0.096360</td>\n",
              "      <td>0.104341</td>\n",
              "      <td>0.088799</td>\n",
              "      <td>0.048919</td>\n",
              "      <td>0.181162</td>\n",
              "      <td>0.062798</td>\n",
              "      <td>0.405172</td>\n",
              "      <td>1.216853</td>\n",
              "      <td>2.866059</td>\n",
              "      <td>40.337079</td>\n",
              "      <td>0.007041</td>\n",
              "      <td>0.025478</td>\n",
              "      <td>0.031894</td>\n",
              "      <td>0.011796</td>\n",
              "      <td>0.020542</td>\n",
              "      <td>0.003795</td>\n",
              "      <td>16.269190</td>\n",
              "      <td>25.677223</td>\n",
              "      <td>107.261213</td>\n",
              "      <td>880.583128</td>\n",
              "      <td>0.132369</td>\n",
              "      <td>0.254265</td>\n",
              "      <td>0.272188</td>\n",
              "      <td>0.114606</td>\n",
              "      <td>0.290076</td>\n",
              "      <td>0.083946</td>\n",
              "      <td>0.627417</td>\n",
              "    </tr>\n",
              "    <tr>\n",
              "      <th>std</th>\n",
              "      <td>3.524049</td>\n",
              "      <td>4.301036</td>\n",
              "      <td>24.298981</td>\n",
              "      <td>351.914129</td>\n",
              "      <td>0.014064</td>\n",
              "      <td>0.052813</td>\n",
              "      <td>0.079720</td>\n",
              "      <td>0.038803</td>\n",
              "      <td>0.027414</td>\n",
              "      <td>0.007060</td>\n",
              "      <td>0.277313</td>\n",
              "      <td>0.551648</td>\n",
              "      <td>2.021855</td>\n",
              "      <td>45.491006</td>\n",
              "      <td>0.003003</td>\n",
              "      <td>0.017908</td>\n",
              "      <td>0.030186</td>\n",
              "      <td>0.006170</td>\n",
              "      <td>0.008266</td>\n",
              "      <td>0.002646</td>\n",
              "      <td>4.833242</td>\n",
              "      <td>6.146258</td>\n",
              "      <td>33.602542</td>\n",
              "      <td>569.356993</td>\n",
              "      <td>0.022832</td>\n",
              "      <td>0.157336</td>\n",
              "      <td>0.208624</td>\n",
              "      <td>0.065732</td>\n",
              "      <td>0.061867</td>\n",
              "      <td>0.018061</td>\n",
              "      <td>0.483918</td>\n",
              "    </tr>\n",
              "    <tr>\n",
              "      <th>min</th>\n",
              "      <td>6.981000</td>\n",
              "      <td>9.710000</td>\n",
              "      <td>43.790000</td>\n",
              "      <td>143.500000</td>\n",
              "      <td>0.052630</td>\n",
              "      <td>0.019380</td>\n",
              "      <td>0.000000</td>\n",
              "      <td>0.000000</td>\n",
              "      <td>0.106000</td>\n",
              "      <td>0.049960</td>\n",
              "      <td>0.111500</td>\n",
              "      <td>0.360200</td>\n",
              "      <td>0.757000</td>\n",
              "      <td>6.802000</td>\n",
              "      <td>0.001713</td>\n",
              "      <td>0.002252</td>\n",
              "      <td>0.000000</td>\n",
              "      <td>0.000000</td>\n",
              "      <td>0.007882</td>\n",
              "      <td>0.000895</td>\n",
              "      <td>7.930000</td>\n",
              "      <td>12.020000</td>\n",
              "      <td>50.410000</td>\n",
              "      <td>185.200000</td>\n",
              "      <td>0.071170</td>\n",
              "      <td>0.027290</td>\n",
              "      <td>0.000000</td>\n",
              "      <td>0.000000</td>\n",
              "      <td>0.156500</td>\n",
              "      <td>0.055040</td>\n",
              "      <td>0.000000</td>\n",
              "    </tr>\n",
              "    <tr>\n",
              "      <th>25%</th>\n",
              "      <td>11.700000</td>\n",
              "      <td>16.170000</td>\n",
              "      <td>75.170000</td>\n",
              "      <td>420.300000</td>\n",
              "      <td>0.086370</td>\n",
              "      <td>0.064920</td>\n",
              "      <td>0.029560</td>\n",
              "      <td>0.020310</td>\n",
              "      <td>0.161900</td>\n",
              "      <td>0.057700</td>\n",
              "      <td>0.232400</td>\n",
              "      <td>0.833900</td>\n",
              "      <td>1.606000</td>\n",
              "      <td>17.850000</td>\n",
              "      <td>0.005169</td>\n",
              "      <td>0.013080</td>\n",
              "      <td>0.015090</td>\n",
              "      <td>0.007638</td>\n",
              "      <td>0.015160</td>\n",
              "      <td>0.002248</td>\n",
              "      <td>13.010000</td>\n",
              "      <td>21.080000</td>\n",
              "      <td>84.110000</td>\n",
              "      <td>515.300000</td>\n",
              "      <td>0.116600</td>\n",
              "      <td>0.147200</td>\n",
              "      <td>0.114500</td>\n",
              "      <td>0.064930</td>\n",
              "      <td>0.250400</td>\n",
              "      <td>0.071460</td>\n",
              "      <td>0.000000</td>\n",
              "    </tr>\n",
              "    <tr>\n",
              "      <th>50%</th>\n",
              "      <td>13.370000</td>\n",
              "      <td>18.840000</td>\n",
              "      <td>86.240000</td>\n",
              "      <td>551.100000</td>\n",
              "      <td>0.095870</td>\n",
              "      <td>0.092630</td>\n",
              "      <td>0.061540</td>\n",
              "      <td>0.033500</td>\n",
              "      <td>0.179200</td>\n",
              "      <td>0.061540</td>\n",
              "      <td>0.324200</td>\n",
              "      <td>1.108000</td>\n",
              "      <td>2.287000</td>\n",
              "      <td>24.530000</td>\n",
              "      <td>0.006380</td>\n",
              "      <td>0.020450</td>\n",
              "      <td>0.025890</td>\n",
              "      <td>0.010930</td>\n",
              "      <td>0.018730</td>\n",
              "      <td>0.003187</td>\n",
              "      <td>14.970000</td>\n",
              "      <td>25.410000</td>\n",
              "      <td>97.660000</td>\n",
              "      <td>686.500000</td>\n",
              "      <td>0.131300</td>\n",
              "      <td>0.211900</td>\n",
              "      <td>0.226700</td>\n",
              "      <td>0.099930</td>\n",
              "      <td>0.282200</td>\n",
              "      <td>0.080040</td>\n",
              "      <td>1.000000</td>\n",
              "    </tr>\n",
              "    <tr>\n",
              "      <th>75%</th>\n",
              "      <td>15.780000</td>\n",
              "      <td>21.800000</td>\n",
              "      <td>104.100000</td>\n",
              "      <td>782.700000</td>\n",
              "      <td>0.105300</td>\n",
              "      <td>0.130400</td>\n",
              "      <td>0.130700</td>\n",
              "      <td>0.074000</td>\n",
              "      <td>0.195700</td>\n",
              "      <td>0.066120</td>\n",
              "      <td>0.478900</td>\n",
              "      <td>1.474000</td>\n",
              "      <td>3.357000</td>\n",
              "      <td>45.190000</td>\n",
              "      <td>0.008146</td>\n",
              "      <td>0.032450</td>\n",
              "      <td>0.042050</td>\n",
              "      <td>0.014710</td>\n",
              "      <td>0.023480</td>\n",
              "      <td>0.004558</td>\n",
              "      <td>18.790000</td>\n",
              "      <td>29.720000</td>\n",
              "      <td>125.400000</td>\n",
              "      <td>1084.000000</td>\n",
              "      <td>0.146000</td>\n",
              "      <td>0.339100</td>\n",
              "      <td>0.382900</td>\n",
              "      <td>0.161400</td>\n",
              "      <td>0.317900</td>\n",
              "      <td>0.092080</td>\n",
              "      <td>1.000000</td>\n",
              "    </tr>\n",
              "    <tr>\n",
              "      <th>max</th>\n",
              "      <td>28.110000</td>\n",
              "      <td>39.280000</td>\n",
              "      <td>188.500000</td>\n",
              "      <td>2501.000000</td>\n",
              "      <td>0.163400</td>\n",
              "      <td>0.345400</td>\n",
              "      <td>0.426800</td>\n",
              "      <td>0.201200</td>\n",
              "      <td>0.304000</td>\n",
              "      <td>0.097440</td>\n",
              "      <td>2.873000</td>\n",
              "      <td>4.885000</td>\n",
              "      <td>21.980000</td>\n",
              "      <td>542.200000</td>\n",
              "      <td>0.031130</td>\n",
              "      <td>0.135400</td>\n",
              "      <td>0.396000</td>\n",
              "      <td>0.052790</td>\n",
              "      <td>0.078950</td>\n",
              "      <td>0.029840</td>\n",
              "      <td>36.040000</td>\n",
              "      <td>49.540000</td>\n",
              "      <td>251.200000</td>\n",
              "      <td>4254.000000</td>\n",
              "      <td>0.222600</td>\n",
              "      <td>1.058000</td>\n",
              "      <td>1.252000</td>\n",
              "      <td>0.291000</td>\n",
              "      <td>0.663800</td>\n",
              "      <td>0.207500</td>\n",
              "      <td>1.000000</td>\n",
              "    </tr>\n",
              "  </tbody>\n",
              "</table>\n",
              "</div>"
            ],
            "text/plain": [
              "       mean radius  mean texture  ...  worst fractal dimension       class\n",
              "count   569.000000    569.000000  ...               569.000000  569.000000\n",
              "mean     14.127292     19.289649  ...                 0.083946    0.627417\n",
              "std       3.524049      4.301036  ...                 0.018061    0.483918\n",
              "min       6.981000      9.710000  ...                 0.055040    0.000000\n",
              "25%      11.700000     16.170000  ...                 0.071460    0.000000\n",
              "50%      13.370000     18.840000  ...                 0.080040    1.000000\n",
              "75%      15.780000     21.800000  ...                 0.092080    1.000000\n",
              "max      28.110000     39.280000  ...                 0.207500    1.000000\n",
              "\n",
              "[8 rows x 31 columns]"
            ]
          },
          "metadata": {
            "tags": []
          },
          "execution_count": 122
        }
      ]
    },
    {
      "cell_type": "code",
      "metadata": {
        "id": "ypCfySEzRO08",
        "outputId": "e0b08cb1-f001-4474-b59d-42ab2f31a6be",
        "colab": {
          "base_uri": "https://localhost:8080/",
          "height": 0
        }
      },
      "source": [
        "print(data['class'].value_counts())"
      ],
      "execution_count": 123,
      "outputs": [
        {
          "output_type": "stream",
          "text": [
            "1    357\n",
            "0    212\n",
            "Name: class, dtype: int64\n"
          ],
          "name": "stdout"
        }
      ]
    },
    {
      "cell_type": "code",
      "metadata": {
        "id": "sguspgBuRaBc",
        "outputId": "a5f5e511-27c7-405a-877f-207e7b43537a",
        "colab": {
          "base_uri": "https://localhost:8080/",
          "height": 0
        }
      },
      "source": [
        "print(breast_cancer.target_names)"
      ],
      "execution_count": 124,
      "outputs": [
        {
          "output_type": "stream",
          "text": [
            "['malignant' 'benign']\n"
          ],
          "name": "stdout"
        }
      ]
    },
    {
      "cell_type": "code",
      "metadata": {
        "id": "kO7gD_MiRjeX",
        "outputId": "d4e4b6e8-51c4-4dd9-d888-d402c8e7d861",
        "colab": {
          "base_uri": "https://localhost:8080/",
          "height": 0
        }
      },
      "source": [
        "data.groupby('class').mean()"
      ],
      "execution_count": 125,
      "outputs": [
        {
          "output_type": "execute_result",
          "data": {
            "text/html": [
              "<div>\n",
              "<style scoped>\n",
              "    .dataframe tbody tr th:only-of-type {\n",
              "        vertical-align: middle;\n",
              "    }\n",
              "\n",
              "    .dataframe tbody tr th {\n",
              "        vertical-align: top;\n",
              "    }\n",
              "\n",
              "    .dataframe thead th {\n",
              "        text-align: right;\n",
              "    }\n",
              "</style>\n",
              "<table border=\"1\" class=\"dataframe\">\n",
              "  <thead>\n",
              "    <tr style=\"text-align: right;\">\n",
              "      <th></th>\n",
              "      <th>mean radius</th>\n",
              "      <th>mean texture</th>\n",
              "      <th>mean perimeter</th>\n",
              "      <th>mean area</th>\n",
              "      <th>mean smoothness</th>\n",
              "      <th>mean compactness</th>\n",
              "      <th>mean concavity</th>\n",
              "      <th>mean concave points</th>\n",
              "      <th>mean symmetry</th>\n",
              "      <th>mean fractal dimension</th>\n",
              "      <th>radius error</th>\n",
              "      <th>texture error</th>\n",
              "      <th>perimeter error</th>\n",
              "      <th>area error</th>\n",
              "      <th>smoothness error</th>\n",
              "      <th>compactness error</th>\n",
              "      <th>concavity error</th>\n",
              "      <th>concave points error</th>\n",
              "      <th>symmetry error</th>\n",
              "      <th>fractal dimension error</th>\n",
              "      <th>worst radius</th>\n",
              "      <th>worst texture</th>\n",
              "      <th>worst perimeter</th>\n",
              "      <th>worst area</th>\n",
              "      <th>worst smoothness</th>\n",
              "      <th>worst compactness</th>\n",
              "      <th>worst concavity</th>\n",
              "      <th>worst concave points</th>\n",
              "      <th>worst symmetry</th>\n",
              "      <th>worst fractal dimension</th>\n",
              "    </tr>\n",
              "    <tr>\n",
              "      <th>class</th>\n",
              "      <th></th>\n",
              "      <th></th>\n",
              "      <th></th>\n",
              "      <th></th>\n",
              "      <th></th>\n",
              "      <th></th>\n",
              "      <th></th>\n",
              "      <th></th>\n",
              "      <th></th>\n",
              "      <th></th>\n",
              "      <th></th>\n",
              "      <th></th>\n",
              "      <th></th>\n",
              "      <th></th>\n",
              "      <th></th>\n",
              "      <th></th>\n",
              "      <th></th>\n",
              "      <th></th>\n",
              "      <th></th>\n",
              "      <th></th>\n",
              "      <th></th>\n",
              "      <th></th>\n",
              "      <th></th>\n",
              "      <th></th>\n",
              "      <th></th>\n",
              "      <th></th>\n",
              "      <th></th>\n",
              "      <th></th>\n",
              "      <th></th>\n",
              "      <th></th>\n",
              "    </tr>\n",
              "  </thead>\n",
              "  <tbody>\n",
              "    <tr>\n",
              "      <th>0</th>\n",
              "      <td>17.462830</td>\n",
              "      <td>21.604906</td>\n",
              "      <td>115.365377</td>\n",
              "      <td>978.376415</td>\n",
              "      <td>0.102898</td>\n",
              "      <td>0.145188</td>\n",
              "      <td>0.160775</td>\n",
              "      <td>0.087990</td>\n",
              "      <td>0.192909</td>\n",
              "      <td>0.062680</td>\n",
              "      <td>0.609083</td>\n",
              "      <td>1.210915</td>\n",
              "      <td>4.323929</td>\n",
              "      <td>72.672406</td>\n",
              "      <td>0.006780</td>\n",
              "      <td>0.032281</td>\n",
              "      <td>0.041824</td>\n",
              "      <td>0.015060</td>\n",
              "      <td>0.020472</td>\n",
              "      <td>0.004062</td>\n",
              "      <td>21.134811</td>\n",
              "      <td>29.318208</td>\n",
              "      <td>141.370330</td>\n",
              "      <td>1422.286321</td>\n",
              "      <td>0.144845</td>\n",
              "      <td>0.374824</td>\n",
              "      <td>0.450606</td>\n",
              "      <td>0.182237</td>\n",
              "      <td>0.323468</td>\n",
              "      <td>0.091530</td>\n",
              "    </tr>\n",
              "    <tr>\n",
              "      <th>1</th>\n",
              "      <td>12.146524</td>\n",
              "      <td>17.914762</td>\n",
              "      <td>78.075406</td>\n",
              "      <td>462.790196</td>\n",
              "      <td>0.092478</td>\n",
              "      <td>0.080085</td>\n",
              "      <td>0.046058</td>\n",
              "      <td>0.025717</td>\n",
              "      <td>0.174186</td>\n",
              "      <td>0.062867</td>\n",
              "      <td>0.284082</td>\n",
              "      <td>1.220380</td>\n",
              "      <td>2.000321</td>\n",
              "      <td>21.135148</td>\n",
              "      <td>0.007196</td>\n",
              "      <td>0.021438</td>\n",
              "      <td>0.025997</td>\n",
              "      <td>0.009858</td>\n",
              "      <td>0.020584</td>\n",
              "      <td>0.003636</td>\n",
              "      <td>13.379801</td>\n",
              "      <td>23.515070</td>\n",
              "      <td>87.005938</td>\n",
              "      <td>558.899440</td>\n",
              "      <td>0.124959</td>\n",
              "      <td>0.182673</td>\n",
              "      <td>0.166238</td>\n",
              "      <td>0.074444</td>\n",
              "      <td>0.270246</td>\n",
              "      <td>0.079442</td>\n",
              "    </tr>\n",
              "  </tbody>\n",
              "</table>\n",
              "</div>"
            ],
            "text/plain": [
              "       mean radius  mean texture  ...  worst symmetry  worst fractal dimension\n",
              "class                             ...                                         \n",
              "0        17.462830     21.604906  ...        0.323468                 0.091530\n",
              "1        12.146524     17.914762  ...        0.270246                 0.079442\n",
              "\n",
              "[2 rows x 30 columns]"
            ]
          },
          "metadata": {
            "tags": []
          },
          "execution_count": 125
        }
      ]
    },
    {
      "cell_type": "code",
      "metadata": {
        "id": "iD2cjfI3RqZD"
      },
      "source": [
        ""
      ],
      "execution_count": 125,
      "outputs": []
    },
    {
      "cell_type": "markdown",
      "metadata": {
        "id": "_74wqCcJTxAn"
      },
      "source": [
        "#Test Train Split"
      ]
    },
    {
      "cell_type": "code",
      "metadata": {
        "id": "brGU1gLgT3UO"
      },
      "source": [
        "from sklearn.model_selection import train_test_split"
      ],
      "execution_count": 126,
      "outputs": []
    },
    {
      "cell_type": "code",
      "metadata": {
        "id": "qi4H35sqT5I6"
      },
      "source": [
        "X = data.drop('class',axis = 1)\n",
        "Y = data['class']"
      ],
      "execution_count": 127,
      "outputs": []
    },
    {
      "cell_type": "code",
      "metadata": {
        "id": "gl3ZSVuIT2bD",
        "outputId": "c7cb1e02-8143-40e9-d65f-cffdb599eadb",
        "colab": {
          "base_uri": "https://localhost:8080/",
          "height": 0
        }
      },
      "source": [
        "type(X)"
      ],
      "execution_count": 128,
      "outputs": [
        {
          "output_type": "execute_result",
          "data": {
            "text/plain": [
              "pandas.core.frame.DataFrame"
            ]
          },
          "metadata": {
            "tags": []
          },
          "execution_count": 128
        }
      ]
    },
    {
      "cell_type": "code",
      "metadata": {
        "id": "lPdZKxuOUetS"
      },
      "source": [
        "X_train,X_test,Y_train,Y_test = train_test_split(X,Y)"
      ],
      "execution_count": 129,
      "outputs": []
    },
    {
      "cell_type": "code",
      "metadata": {
        "id": "JJ_iqaT1UogS",
        "outputId": "3007cf4c-28dc-4dda-a986-3c09f9d8127f",
        "colab": {
          "base_uri": "https://localhost:8080/",
          "height": 0
        }
      },
      "source": [
        "print(Y.shape,Y_train.shape,Y_test.shape)\n",
        "#Almost 80% to training if unspecified "
      ],
      "execution_count": 130,
      "outputs": [
        {
          "output_type": "stream",
          "text": [
            "(569,) (426,) (143,)\n"
          ],
          "name": "stdout"
        }
      ]
    },
    {
      "cell_type": "code",
      "metadata": {
        "id": "bJB3RWNWUyg-"
      },
      "source": [
        "X_train,X_test,Y_train,Y_test = train_test_split(X,Y,test_size = 0.1)"
      ],
      "execution_count": 131,
      "outputs": []
    },
    {
      "cell_type": "code",
      "metadata": {
        "id": "PL_q8RYrU-nO",
        "outputId": "f18a700a-4ebc-44cb-aaeb-d70fc0d0dd01",
        "colab": {
          "base_uri": "https://localhost:8080/",
          "height": 0
        }
      },
      "source": [
        "print(X.shape,X_train.shape,X_test.shape)"
      ],
      "execution_count": 132,
      "outputs": [
        {
          "output_type": "stream",
          "text": [
            "(569, 30) (512, 30) (57, 30)\n"
          ],
          "name": "stdout"
        }
      ]
    },
    {
      "cell_type": "code",
      "metadata": {
        "id": "AjkirYHDVMMi"
      },
      "source": [
        "X_train,X_test,Y_train,Y_test = train_test_split(X,Y,test_size = 0.1,stratify = Y)"
      ],
      "execution_count": 133,
      "outputs": []
    },
    {
      "cell_type": "code",
      "metadata": {
        "id": "HGLlV3iiVuGq"
      },
      "source": [
        "X_train,X_test,Y_train,Y_test = train_test_split(X,Y,test_size = 0.1,stratify = Y, random_state = 1)"
      ],
      "execution_count": 134,
      "outputs": []
    },
    {
      "cell_type": "code",
      "metadata": {
        "id": "R0hacp1rWIa-",
        "outputId": "6bfc0eac-69a4-4379-b491-ee5632a7c34e",
        "colab": {
          "base_uri": "https://localhost:8080/",
          "height": 0
        }
      },
      "source": [
        "print(Y.mean(),Y_train.mean(),Y_test.mean())"
      ],
      "execution_count": 135,
      "outputs": [
        {
          "output_type": "stream",
          "text": [
            "0.6274165202108963 0.626953125 0.631578947368421\n"
          ],
          "name": "stdout"
        }
      ]
    },
    {
      "cell_type": "code",
      "metadata": {
        "id": "FoqxAYNpWPWe",
        "outputId": "1d2b3d0a-ecec-4217-a86b-6a706e980c3e",
        "colab": {
          "base_uri": "https://localhost:8080/",
          "height": 0
        }
      },
      "source": [
        "print(X.mean(),X_train.mean(),X_test.mean())"
      ],
      "execution_count": 136,
      "outputs": [
        {
          "output_type": "stream",
          "text": [
            "mean radius                 14.127292\n",
            "mean texture                19.289649\n",
            "mean perimeter              91.969033\n",
            "mean area                  654.889104\n",
            "mean smoothness              0.096360\n",
            "mean compactness             0.104341\n",
            "mean concavity               0.088799\n",
            "mean concave points          0.048919\n",
            "mean symmetry                0.181162\n",
            "mean fractal dimension       0.062798\n",
            "radius error                 0.405172\n",
            "texture error                1.216853\n",
            "perimeter error              2.866059\n",
            "area error                  40.337079\n",
            "smoothness error             0.007041\n",
            "compactness error            0.025478\n",
            "concavity error              0.031894\n",
            "concave points error         0.011796\n",
            "symmetry error               0.020542\n",
            "fractal dimension error      0.003795\n",
            "worst radius                16.269190\n",
            "worst texture               25.677223\n",
            "worst perimeter            107.261213\n",
            "worst area                 880.583128\n",
            "worst smoothness             0.132369\n",
            "worst compactness            0.254265\n",
            "worst concavity              0.272188\n",
            "worst concave points         0.114606\n",
            "worst symmetry               0.290076\n",
            "worst fractal dimension      0.083946\n",
            "dtype: float64 mean radius                 14.058656\n",
            "mean texture                19.309668\n",
            "mean perimeter              91.530488\n",
            "mean area                  648.097266\n",
            "mean smoothness              0.096568\n",
            "mean compactness             0.105144\n",
            "mean concavity               0.089342\n",
            "mean concave points          0.048892\n",
            "mean symmetry                0.181961\n",
            "mean fractal dimension       0.062979\n",
            "radius error                 0.403659\n",
            "texture error                1.206856\n",
            "perimeter error              2.861173\n",
            "area error                  39.935506\n",
            "smoothness error             0.007067\n",
            "compactness error            0.025681\n",
            "concavity error              0.032328\n",
            "concave points error         0.011963\n",
            "symmetry error               0.020584\n",
            "fractal dimension error      0.003815\n",
            "worst radius                16.194275\n",
            "worst texture               25.644902\n",
            "worst perimeter            106.757715\n",
            "worst area                 871.647852\n",
            "worst smoothness             0.132592\n",
            "worst compactness            0.257415\n",
            "worst concavity              0.275623\n",
            "worst concave points         0.115454\n",
            "worst symmetry               0.291562\n",
            "worst fractal dimension      0.084402\n",
            "dtype: float64 mean radius                 14.743807\n",
            "mean texture                19.109825\n",
            "mean perimeter              95.908246\n",
            "mean area                  715.896491\n",
            "mean smoothness              0.094496\n",
            "mean compactness             0.097130\n",
            "mean concavity               0.083923\n",
            "mean concave points          0.049159\n",
            "mean symmetry                0.173981\n",
            "mean fractal dimension       0.061169\n",
            "radius error                 0.418767\n",
            "texture error                1.306656\n",
            "perimeter error              2.909946\n",
            "area error                  43.944193\n",
            "smoothness error             0.006809\n",
            "compactness error            0.023659\n",
            "concavity error              0.027989\n",
            "concave points error         0.010293\n",
            "symmetry error               0.020169\n",
            "fractal dimension error      0.003618\n",
            "worst radius                16.942105\n",
            "worst texture               25.967544\n",
            "worst perimeter            111.783860\n",
            "worst area                 960.843860\n",
            "worst smoothness             0.130357\n",
            "worst compactness            0.225973\n",
            "worst concavity              0.241340\n",
            "worst concave points         0.106994\n",
            "worst symmetry               0.276719\n",
            "worst fractal dimension      0.079852\n",
            "dtype: float64\n"
          ],
          "name": "stdout"
        }
      ]
    },
    {
      "cell_type": "code",
      "metadata": {
        "id": "BqgqSZs4WTy9"
      },
      "source": [
        ""
      ],
      "execution_count": 136,
      "outputs": []
    },
    {
      "cell_type": "markdown",
      "metadata": {
        "id": "0V4p4_SBWYwp"
      },
      "source": [
        "#Binarization of Input"
      ]
    },
    {
      "cell_type": "code",
      "metadata": {
        "id": "4uYywj0gWbot"
      },
      "source": [
        "import matplotlib.pyplot as plt"
      ],
      "execution_count": 137,
      "outputs": []
    },
    {
      "cell_type": "code",
      "metadata": {
        "id": "2nW_2_-gWeJ9",
        "outputId": "51afd76a-afa4-45ab-aef3-7a2febcd6589",
        "colab": {
          "base_uri": "https://localhost:8080/",
          "height": 0
        }
      },
      "source": [
        "plt.plot(X_train.T, '.')\n",
        "plt.xticks(rotation = 'vertical')\n",
        "plt.show"
      ],
      "execution_count": 138,
      "outputs": [
        {
          "output_type": "execute_result",
          "data": {
            "text/plain": [
              "<function matplotlib.pyplot.show>"
            ]
          },
          "metadata": {
            "tags": []
          },
          "execution_count": 138
        },
        {
          "output_type": "display_data",
          "data": {
            "image/png": "[encoded data removed]",
            "text/plain": [
              "<Figure size 432x288 with 1 Axes>"
            ]
          },
          "metadata": {
            "tags": [],
            "needs_background": "light"
          }
        }
      ]
    },
    {
      "cell_type": "code",
      "metadata": {
        "id": "tNgOpjA5WjRp"
      },
      "source": [
        "X_binarised_3_train = X_train['mean area'].map(lambda x:0 if x<1000 else 1)"
      ],
      "execution_count": 139,
      "outputs": []
    },
    {
      "cell_type": "code",
      "metadata": {
        "id": "9-dyPr7SXKZB",
        "outputId": "932d3203-1e55-45de-df75-92c9de4e1e0a",
        "colab": {
          "base_uri": "https://localhost:8080/",
          "height": 0
        }
      },
      "source": [
        "plt.plot(X_binarised_3_train, '*')"
      ],
      "execution_count": 140,
      "outputs": [
        {
          "output_type": "execute_result",
          "data": {
            "text/plain": [
              "[<matplotlib.lines.Line2D at 0x7f3a52e7e9e8>]"
            ]
          },
          "metadata": {
            "tags": []
          },
          "execution_count": 140
        },
        {
          "output_type": "display_data",
          "data": {
            "image/png": "[encoded data removed]",
            "text/plain": [
              "<Figure size 432x288 with 1 Axes>"
            ]
          },
          "metadata": {
            "tags": [],
            "needs_background": "light"
          }
        }
      ]
    },
    {
      "cell_type": "code",
      "metadata": {
        "id": "FtEIDOqOXNma"
      },
      "source": [
        "#Binarisation of all the columns together using pd.cut\n",
        "\n",
        "X_binarised_train = X_train.apply(pd.cut, bins = 2, labels = [1,0])"
      ],
      "execution_count": 141,
      "outputs": []
    },
    {
      "cell_type": "code",
      "metadata": {
        "id": "1T7cmf00Xqfs",
        "outputId": "a4af5e6a-f866-430d-d1a6-b4f4eae27099",
        "colab": {
          "base_uri": "https://localhost:8080/",
          "height": 0
        }
      },
      "source": [
        "plt.plot(X_binarised_train.T, '.')\n",
        "plt.xticks(rotation = 'vertical')\n",
        "plt.show"
      ],
      "execution_count": 142,
      "outputs": [
        {
          "output_type": "execute_result",
          "data": {
            "text/plain": [
              "<function matplotlib.pyplot.show>"
            ]
          },
          "metadata": {
            "tags": []
          },
          "execution_count": 142
        },
        {
          "output_type": "display_data",
          "data": {
            "image/png": "[encoded data removed]",
            "text/plain": [
              "<Figure size 432x288 with 1 Axes>"
            ]
          },
          "metadata": {
            "tags": [],
            "needs_background": "light"
          }
        }
      ]
    },
    {
      "cell_type": "code",
      "metadata": {
        "id": "lEju5AsjXwrJ"
      },
      "source": [
        "X_binarised_test = X_test.apply(pd.cut, bins = 2, labels = [1,0])"
      ],
      "execution_count": 143,
      "outputs": []
    },
    {
      "cell_type": "code",
      "metadata": {
        "id": "cRNtoRSEX77V"
      },
      "source": [
        "#Convert to Numpy Arrays\n",
        "X_binarised_test = X_binarised_test.values\n",
        "X_binarised_train = X_binarised_train.values"
      ],
      "execution_count": 144,
      "outputs": []
    },
    {
      "cell_type": "code",
      "metadata": {
        "id": "yblsnS13YL1F",
        "outputId": "9d5157b0-46fa-4ef3-8d7a-a13cf617bd12",
        "colab": {
          "base_uri": "https://localhost:8080/",
          "height": 0
        }
      },
      "source": [
        "type(X_binarised_test)"
      ],
      "execution_count": 145,
      "outputs": [
        {
          "output_type": "execute_result",
          "data": {
            "text/plain": [
              "numpy.ndarray"
            ]
          },
          "metadata": {
            "tags": []
          },
          "execution_count": 145
        }
      ]
    },
    {
      "cell_type": "markdown",
      "metadata": {
        "id": "jg_m3smxYTG4"
      },
      "source": [
        "#MP Neuron Model"
      ]
    },
    {
      "cell_type": "code",
      "metadata": {
        "id": "qYpL9_8NYP5S",
        "outputId": "7f3e6ed7-a235-4276-ffe5-e9d6118fb5fc",
        "colab": {
          "base_uri": "https://localhost:8080/",
          "height": 0
        }
      },
      "source": [
        "from random import randint\n",
        "b = 3\n",
        "#Our goal is to maximise the number of cases in which the value we get the answer correct and we need to find the value of b for which accuracy accross all rows is maximised\n",
        "i = randint(0,X_binarised_train.shape[0])\n",
        "print('For row', i)\n",
        "if(np.sum(X_binarised_train[100,:])>=b):\n",
        "  print('MP Neuron inference is malignant')\n",
        "else:\n",
        "  print('MP Neuron inference is benign')\n",
        "if(Y_train[i]==1):\n",
        "  print('MP Neuron inference is malignant')\n",
        "else:\n",
        "  print('MP Neuron inference is benign')\n"
      ],
      "execution_count": 146,
      "outputs": [
        {
          "output_type": "stream",
          "text": [
            "For row 232\n",
            "MP Neuron inference is malignant\n",
            "MP Neuron inference is malignant\n"
          ],
          "name": "stdout"
        }
      ]
    },
    {
      "cell_type": "code",
      "metadata": {
        "id": "C68wFPVXYyiL",
        "outputId": "b9ede69d-48ab-4fa0-e938-a1933b28563a",
        "colab": {
          "base_uri": "https://localhost:8080/",
          "height": 0
        }
      },
      "source": [
        "b =3\n",
        "Y_pred_train = []\n",
        "accurate_rows = 1\n",
        "\n",
        "for x,y in zip(X_binarised_train,Y_train):\n",
        "  y_pred = (np.sum(x)>=b)\n",
        "  Y_pred_train.append(y_pred) \n",
        "  accurate_rows+= (y==y_pred)\n",
        "\n",
        "print(accurate_rows,accurate_rows/X_binarised_train.shape[0])"
      ],
      "execution_count": 147,
      "outputs": [
        {
          "output_type": "stream",
          "text": [
            "322 0.62890625\n"
          ],
          "name": "stdout"
        }
      ]
    },
    {
      "cell_type": "code",
      "metadata": {
        "id": "ijr5QyRVawxN",
        "outputId": "d805ceed-cc40-4ee2-e36f-089ff1cb11df",
        "colab": {
          "base_uri": "https://localhost:8080/",
          "height": 0
        }
      },
      "source": [
        "for b in range(X_binarised_train.shape[1]+1):\n",
        "  Y_pred_train = []\n",
        "  accurate_rows = 1\n",
        "  for x,y in zip(X_binarised_train,Y_train):\n",
        "    y_pred = (np.sum(x)>=b)\n",
        "    Y_pred_train.append(y_pred)\n",
        "    accurate_rows+= (y==y_pred)\n",
        "  print(b,accurate_rows/X_binarised_train.shape[0])"
      ],
      "execution_count": 148,
      "outputs": [
        {
          "output_type": "stream",
          "text": [
            "0 0.62890625\n",
            "1 0.62890625\n",
            "2 0.62890625\n",
            "3 0.62890625\n",
            "4 0.62890625\n",
            "5 0.62890625\n",
            "6 0.62890625\n",
            "7 0.62890625\n",
            "8 0.62890625\n",
            "9 0.62890625\n",
            "10 0.62890625\n",
            "11 0.62890625\n",
            "12 0.62890625\n",
            "13 0.62890625\n",
            "14 0.6328125\n",
            "15 0.634765625\n",
            "16 0.64453125\n",
            "17 0.650390625\n",
            "18 0.658203125\n",
            "19 0.666015625\n",
            "20 0.673828125\n",
            "21 0.689453125\n",
            "22 0.703125\n",
            "23 0.7265625\n",
            "24 0.7578125\n",
            "25 0.787109375\n",
            "26 0.8203125\n",
            "27 0.84765625\n",
            "28 0.8515625\n",
            "29 0.81640625\n",
            "30 0.76171875\n"
          ],
          "name": "stdout"
        }
      ]
    },
    {
      "cell_type": "code",
      "metadata": {
        "id": "4VgPvO6leOvI"
      },
      "source": [
        "from sklearn.metrics import accuracy_score"
      ],
      "execution_count": 149,
      "outputs": []
    },
    {
      "cell_type": "code",
      "metadata": {
        "id": "fOdCeSn6ccmC",
        "outputId": "26739292-948e-4149-fd9a-37ad57313046",
        "colab": {
          "base_uri": "https://localhost:8080/",
          "height": 0
        }
      },
      "source": [
        "  b = 28\n",
        "  \n",
        "  Y_pred_test = []\n",
        "  accurate_rows = 1\n",
        "  for x in X_binarised_test:\n",
        "    y_pred = (np.sum(x)>=b)\n",
        "    Y_pred_test.append(y_pred)\n",
        "    \n",
        "  accuracy = accuracy_score(Y_pred_test,Y_test)\n",
        "  print(b,accuracy)"
      ],
      "execution_count": 150,
      "outputs": [
        {
          "output_type": "stream",
          "text": [
            "28 0.7894736842105263\n"
          ],
          "name": "stdout"
        }
      ]
    },
    {
      "cell_type": "markdown",
      "metadata": {
        "id": "M057IK12fM1A"
      },
      "source": [
        "#MP Neuron Class\n"
      ]
    },
    {
      "cell_type": "code",
      "metadata": {
        "id": "0vQvmLjVeiWc"
      },
      "source": [
        "class MPNeuron:\n",
        "  def __init__(self):\n",
        "    self.b = None\n",
        "  def model(self,x):\n",
        "    return (sum(x)>=self.b)\n",
        "\n",
        "  def predict(self,X):\n",
        "    Y = []\n",
        "    for x in X:\n",
        "      result = self.model(x)\n",
        "      Y.append(result)\n",
        "    return np.array(Y)\n",
        "\n",
        "  def fit(self,X,Y):\n",
        "    accuracy = {}\n",
        "\n",
        "    for b in range(X.shape[1]+1):\n",
        "      self.b = b\n",
        "      Y_pred = self.predict(X)\n",
        "      accuracy[b] = accuracy_score(Y_pred,Y)\n",
        "    best_b = max(accuracy, key = accuracy.get)\n",
        "    self.b = best_b\n",
        "\n",
        "    print('Optimal value of b is', best_b)\n",
        "    print('Highest accuracy is',accuracy[best_b])"
      ],
      "execution_count": 151,
      "outputs": []
    },
    {
      "cell_type": "code",
      "metadata": {
        "id": "xtneTcajgmBu",
        "outputId": "ed5d4804-44e6-4d37-dc0c-18533f73f943",
        "colab": {
          "base_uri": "https://localhost:8080/",
          "height": 0
        }
      },
      "source": [
        "mp_neuron = MPNeuron()\n",
        "mp_neuron.fit(X_binarised_train, Y_train)"
      ],
      "execution_count": 152,
      "outputs": [
        {
          "output_type": "stream",
          "text": [
            "Optimal value of b is 28\n",
            "Highest accuracy is 0.849609375\n"
          ],
          "name": "stdout"
        }
      ]
    },
    {
      "cell_type": "code",
      "metadata": {
        "id": "_S4AVkwEgyJH"
      },
      "source": [
        "Y_test_pred = mp_neuron.predict(X_binarised_test)\n",
        "accuracy_test = accuracy_score(Y_test_pred, Y_test)"
      ],
      "execution_count": 153,
      "outputs": []
    },
    {
      "cell_type": "code",
      "metadata": {
        "id": "_C1rJYpehHxa",
        "outputId": "96bcf4d4-ce33-42ff-cd3c-cc00b7501695",
        "colab": {
          "base_uri": "https://localhost:8080/",
          "height": 0
        }
      },
      "source": [
        "print(accuracy_test)"
      ],
      "execution_count": 154,
      "outputs": [
        {
          "output_type": "stream",
          "text": [
            "0.7894736842105263\n"
          ],
          "name": "stdout"
        }
      ]
    },
    {
      "cell_type": "code",
      "metadata": {
        "id": "CedAneExhper"
      },
      "source": [
        ""
      ],
      "execution_count": 154,
      "outputs": []
    },
    {
      "cell_type": "markdown",
      "metadata": {
        "id": "oliCE2yfh02C"
      },
      "source": [
        "#Perceptron"
      ]
    },
    {
      "cell_type": "markdown",
      "metadata": {
        "id": "IL8SGcyniAQW"
      },
      "source": [
        "$y=1,\\mbox{if}\\sum_i w_i x_i>=b $\n",
        "\n",
        "$y = 0,\\mbox{otherwise}$\n",
        "\n"
      ]
    },
    {
      "cell_type": "code",
      "metadata": {
        "id": "cjlwC0jIqp-l"
      },
      "source": [
        "X_train = X_train.values\n",
        "X_test = X_test.values"
      ],
      "execution_count": 155,
      "outputs": []
    },
    {
      "cell_type": "code",
      "metadata": {
        "id": "2T1SIkHah19e"
      },
      "source": [
        "class Perceptron:\n",
        "  def __init__(self):\n",
        "    self.w = None\n",
        "    self.b = None\n",
        "\n",
        "  def model(self,x):\n",
        "    return 1 if (np.dot(self.w,x)>=self.b) else 0\n",
        "\n",
        "  def predict(self,X):\n",
        "    Y = []\n",
        "    for x in X:\n",
        "      result = self.model(x)\n",
        "      Y.append(result)\n",
        "    return np.array(Y)\n",
        "\n",
        "  def fit(self,X,Y,epochs=1,lr =1):\n",
        "\n",
        "    self.w = np.ones(X.shape[1])\n",
        "    self.b = 0\n",
        "\n",
        "    accuracy = {}\n",
        "    max_accuracy = 0\n",
        "\n",
        "    wt_matrix = []\n",
        "\n",
        "    for i in range(epochs):\n",
        "      for x,y in zip(X,Y):\n",
        "        y_pred = self.model(x)\n",
        "        if y==1 and y_pred==0:\n",
        "          self.w = self.w +lr*x\n",
        "          self.b = self.b +lr*1\n",
        "        elif y==0 and y_pred==1:\n",
        "          self.w = self.w -lr*x\n",
        "          self.b = self.b -lr*1\n",
        "      \n",
        "      wt_matrix.append(self.w)\n",
        "\n",
        "      accuracy[i] = accuracy_score(self.predict(X),Y)\n",
        "      if(accuracy[i]>max_accuracy):\n",
        "        max_accuracy = accuracy[i]\n",
        "        chkptw = self.w\n",
        "        chkptb = self.b\n",
        "    #Concept of Checkpointing is that we keep track of the best model we have seen so far and saving that and now restoring\n",
        "    self.w = chkptw\n",
        "    self.b = chkptb\n",
        "    print(max_accuracy)\n",
        "\n",
        "    plt.plot(list(accuracy.values()))\n",
        "    plt.ylim([0,1])\n",
        "    plt.show()\n",
        "\n",
        "    return np.array(wt_matrix)\n"
      ],
      "execution_count": 156,
      "outputs": []
    },
    {
      "cell_type": "code",
      "metadata": {
        "id": "aX3qBxL7k7im"
      },
      "source": [
        "perceptron = Perceptron()"
      ],
      "execution_count": 157,
      "outputs": []
    },
    {
      "cell_type": "code",
      "metadata": {
        "id": "a2Xjw6nTlPlr",
        "outputId": "97a9d4cc-a7c1-489d-8b91-8e40b046ce26",
        "colab": {
          "base_uri": "https://localhost:8080/",
          "height": 286
        }
      },
      "source": [
        "wt_matrix = perceptron.fit(X_train,Y_train,100)"
      ],
      "execution_count": 158,
      "outputs": [
        {
          "output_type": "stream",
          "text": [
            "0.927734375\n"
          ],
          "name": "stdout"
        },
        {
          "output_type": "display_data",
          "data": {
            "image/png": "[encoded data removed]",
            "text/plain": [
              "<Figure size 432x288 with 1 Axes>"
            ]
          },
          "metadata": {
            "tags": [],
            "needs_background": "light"
          }
        }
      ]
    },
    {
      "cell_type": "code",
      "metadata": {
        "id": "CocJRdcbxMSZ",
        "outputId": "253184ed-343a-4d14-cf32-0d156810ab7b",
        "colab": {
          "base_uri": "https://localhost:8080/",
          "height": 34
        }
      },
      "source": [
        "type(wt_matrix)"
      ],
      "execution_count": 159,
      "outputs": [
        {
          "output_type": "execute_result",
          "data": {
            "text/plain": [
              "numpy.ndarray"
            ]
          },
          "metadata": {
            "tags": []
          },
          "execution_count": 159
        }
      ]
    },
    {
      "cell_type": "code",
      "metadata": {
        "id": "Xj6UPdmNlfTV",
        "outputId": "ac56dc4e-d141-4ecf-8023-3c6247a26aab",
        "colab": {
          "base_uri": "https://localhost:8080/",
          "height": 265
        }
      },
      "source": [
        "plt.plot(perceptron.w)\n",
        "plt.show()"
      ],
      "execution_count": 160,
      "outputs": [
        {
          "output_type": "display_data",
          "data": {
            "image/png": "[encoded data removed]",
            "text/plain": [
              "<Figure size 432x288 with 1 Axes>"
            ]
          },
          "metadata": {
            "tags": [],
            "needs_background": "light"
          }
        }
      ]
    },
    {
      "cell_type": "code",
      "metadata": {
        "id": "-dlz6-kHmJRO",
        "outputId": "1a04973c-ed19-4a29-d324-0375dfec4e81",
        "colab": {
          "base_uri": "https://localhost:8080/",
          "height": 34
        }
      },
      "source": [
        "Y_pred_train = perceptron.predict(X_train)\n",
        "print(accuracy_score(Y_pred_train,Y_train))"
      ],
      "execution_count": 161,
      "outputs": [
        {
          "output_type": "stream",
          "text": [
            "0.927734375\n"
          ],
          "name": "stdout"
        }
      ]
    },
    {
      "cell_type": "code",
      "metadata": {
        "id": "vA9aWeR4mW8V",
        "outputId": "00ce99ec-1a06-462e-9e09-f48451d36d93",
        "colab": {
          "base_uri": "https://localhost:8080/",
          "height": 34
        }
      },
      "source": [
        "Y_pred_test = perceptron.predict(X_test)\n",
        "print(accuracy_score(Y_pred_test,Y_test))"
      ],
      "execution_count": 162,
      "outputs": [
        {
          "output_type": "stream",
          "text": [
            "0.9473684210526315\n"
          ],
          "name": "stdout"
        }
      ]
    },
    {
      "cell_type": "code",
      "metadata": {
        "id": "OCdALSTjmjiV",
        "outputId": "2090b8ee-63b8-436c-fd32-60ac3cd32369",
        "colab": {
          "base_uri": "https://localhost:8080/",
          "height": 265
        }
      },
      "source": [
        "plt.plot(wt_matrix[-1,:])\n",
        "plt.show()"
      ],
      "execution_count": 163,
      "outputs": [
        {
          "output_type": "display_data",
          "data": {
            "image/png": "[encoded data removed]",
            "text/plain": [
              "<Figure size 432x288 with 1 Axes>"
            ]
          },
          "metadata": {
            "tags": [],
            "needs_background": "light"
          }
        }
      ]
    },
    {
      "cell_type": "code",
      "metadata": {
        "id": "dSGfTl7fvhrL"
      },
      "source": [
        "%matplotlib inline\n",
        "from matplotlib import animation, rc\n",
        "from IPython.display import HTML\n"
      ],
      "execution_count": 164,
      "outputs": []
    },
    {
      "cell_type": "code",
      "metadata": {
        "id": "jBqCaeidwB8B",
        "outputId": "161b5066-9eac-4fc4-c551-626499128cb7",
        "colab": {
          "base_uri": "https://localhost:8080/",
          "height": 269
        }
      },
      "source": [
        "# First set up the figure, the axis, and the plot element we want to animate\n",
        "fig, ax = plt.subplots()\n",
        "ax.set_xlim(( 0, wt_matrix.shape[1]))\n",
        "ax.set_ylim((-15000, 25000))\n",
        "\n",
        "line, = ax.plot([], [], lw=2)"
      ],
      "execution_count": 165,
      "outputs": [
        {
          "output_type": "display_data",
          "data": {
            "image/png": "[encoded data removed]",
            "text/plain": [
              "<Figure size 432x288 with 1 Axes>"
            ]
          },
          "metadata": {
            "tags": [],
            "needs_background": "light"
          }
        }
      ]
    },
    {
      "cell_type": "code",
      "metadata": {
        "id": "-DALHZg6wPeZ"
      },
      "source": [
        "# animation function. This is called sequentially\n",
        "def animate(i):\n",
        "    x = list(range(wt_matrix.shape[1]))\n",
        "    y = wt_matrix[i,:]\n",
        "    line.set_data(x, y)\n",
        "    return (line,)"
      ],
      "execution_count": 166,
      "outputs": []
    },
    {
      "cell_type": "code",
      "metadata": {
        "id": "wiDbfSmpwTPb"
      },
      "source": [
        "# call the animator. blit=True means only re-draw the parts that have changed.\n",
        "anim = animation.FuncAnimation(fig, animate,frames=100, interval=100, blit=True)"
      ],
      "execution_count": 167,
      "outputs": []
    },
    {
      "cell_type": "code",
      "metadata": {
        "id": "ijOY13EbwZpR",
        "outputId": "e2bc2848-ec47-4eb8-aa7b-0c8344f97924",
        "colab": {
          "base_uri": "https://localhost:8080/",
          "height": 309
        }
      },
      "source": [
        "HTML(anim.to_html5_video())"
      ],
      "execution_count": 168,
      "outputs": [
        {
          "output_type": "execute_result",
          "data": {
            "text/html": [
              "<video width=\"432\" height=\"288\" controls autoplay loop>\n",
              "  <source type=\"video/mp4\" src=\"data:video/mp4;base64,AAAAHGZ0eXBNNFYgAAACAGlzb21pc28yYXZjMQAAAAhmcmVlAABr3W1kYXQAAAKuBgX//6rcRem9\n",
              "5tlIt5Ys2CDZI+7veDI2NCAtIGNvcmUgMTUyIHIyODU0IGU5YTU5MDMgLSBILjI2NC9NUEVHLTQg\n",
              "QVZDIGNvZGVjIC0gQ29weWxlZnQgMjAwMy0yMDE3IC0gaHR0cDovL3d3dy52aWRlb2xhbi5vcmcv\n",
              "eDI2NC5odG1sIC0gb3B0aW9uczogY2FiYWM9MSByZWY9MyBkZWJsb2NrPTE6MDowIGFuYWx5c2U9\n",
              "MHgzOjB4MTEzIG1lPWhleCBzdWJtZT03IHBzeT0xIHBzeV9yZD0xLjAwOjAuMDAgbWl4ZWRfcmVm\n",
              "PTEgbWVfcmFuZ2U9MTYgY2hyb21hX21lPTEgdHJlbGxpcz0xIDh4OGRjdD0xIGNxbT0wIGRlYWR6\n",
              "b25lPTIxLDExIGZhc3RfcHNraXA9MSBjaHJvbWFfcXBfb2Zmc2V0PS0yIHRocmVhZHM9MyBsb29r\n",
              "YWhlYWRfdGhyZWFkcz0xIHNsaWNlZF90aHJlYWRzPTAgbnI9MCBkZWNpbWF0ZT0xIGludGVybGFj\n",
              "ZWQ9MCBibHVyYXlfY29tcGF0PTAgY29uc3RyYWluZWRfaW50cmE9MCBiZnJhbWVzPTMgYl9weXJh\n",
              "bWlkPTIgYl9hZGFwdD0xIGJfYmlhcz0wIGRpcmVjdD0xIHdlaWdodGI9MSBvcGVuX2dvcD0wIHdl\n",
              "aWdodHA9MiBrZXlpbnQ9MjUwIGtleWludF9taW49MTAgc2NlbmVjdXQ9NDAgaW50cmFfcmVmcmVz\n",
              "aD0wIHJjX2xvb2thaGVhZD00MCByYz1jcmYgbWJ0cmVlPTEgY3JmPTIzLjAgcWNvbXA9MC42MCBx\n",
              "cG1pbj0wIHFwbWF4PTY5IHFwc3RlcD00IGlwX3JhdGlvPTEuNDAgYXE9MToxLjAwAIAAABDjZYiE\n",
              "AD///vdonwKbWkN6gOSVxSXbT4H/q2dwfI/pAwAAAwAAr9Z/EHZA1ApEpQJI4CClrIxi9D4XRs1x\n",
              "YgEqXPAa7PD610Wq4c1bXGE4ThLHLOn+z7FV5vmZqps0l9Ox/xlee0Xiy1NDnUHxqpQ/azaZvqPW\n",
              "kUu2v9WqJluE0y9StAIm0v4rMw8ZDY4is9c51LU/gAAAD3hHS6LO73rLvkp0ZNOTaZyWPZBhm1u0\n",
              "2+9QkdsKAzrUZ7Vv+3zHzSb/SpVmd4TiAvEmvshr+/PkmMTVxrvI9JMp3JQUM/d9BqtrDjKGglt0\n",
              "s2Jd+oM+qrtnDwMwTeoHw70Y489aG/pCcfbn4pU8YNbHQqcUJFYGbScqMkBLxq9TCs9oYU1iRKLT\n",
              "+I3FEE3IqxEIPy90JQnttrZZlZBtE60nC2+/VCJuByyfbpnGRBP44b+N/SsdjkgzFAWkmThNG1oD\n",
              "BbEk+lZ3VNGUqlX53vzfF/CWIVgwzXhPuok3U0GoIi+5kiMR0KEnqYdNTquaxAAQigOILVcCMNW6\n",
              "UGoO+bZp7YXmk5s56qKsD1WaXeiptYtS6d/MwcmGwqLbRtfXi4Y0ri0PGlRE4rrhZhxtSmhKu6QM\n",
              "hu6puXYBb5KEvCKglKHdhMin8l1LT8F8NggHjv6wuMPkwKx/fcp6jGtmZ74/ME1aX7Zb7ush9M9G\n",
              "DxQ4VePhFuwpGgAoAY4PmbKjHKxp9Jy+4It5MUBGXuauvtcef0yAWgRWQAgKry1UDCZ28632RMTT\n",
              "T8nZCRB9iaNioawjqDI7OZEKMQaF/hYu9cR4jh9CV87W3e4glJh453GPgNOMAMlQAFBogJTo5URU\n",
              "h2KBTYeCwp+ru4bXQgLDNB+myHykNKTYoGwEQRqwRS3bhAR7FFMOUGjGFWwyEW+Gikcnvlm1KiQK\n",
              "i4s3tmfXtHA/XwadxnYPmGiQJWKq0PI/Kc+cRv0b7J+Ga2RUTsqRXtEs4Qb9s8AAAVNGRzSeLsF7\n",
              "8LI18r2BctqAx8JI9GAaHElTNLm4Av7QKcMpP31TqxuUM3n8wxKFvrbkbn8SA9OXtKWsGuVq2dza\n",
              "RmTbZAJCxcZnEooNvA1pVvN0mp43rQaIfur8BSf1hSlUYyNUqs0VukeAyEqn/G2ZE9HMvRmDbRND\n",
              "kMF1oMpVo9XCT3zBcbyQjpCmW4doFh5+xqN+EgFIjOQoHu14TVSOyAtcMl9g86LeuKf29F3x0QPd\n",
              "Httg/jZ8X2ddtA+pjKW9D5mFGIwm1VVCfh8tOnLtFQ3LZeAFbfli7qUA1IoyU1yG6IW5UvlP6jBe\n",
              "D5TTn0ydE2G27033axKF+kzDuZChVYqLewGpBgebWKmNNFOwAGXmRGV7DyeSTVkZ087g4SqhLOSB\n",
              "mLGBJ5pPNbn11yQfovQ7Gd//ULmBPmxqO7kFeSCuGvBCSryDhtzeI39lgHch9Kxr3IENHZdsH5Yn\n",
              "blLp0vWRHql0zIZVmNw4E423vjGPAxlynXvk+4QAAPKf+SjUqNR6PUVN8PQtHPMSB9EcquBAO5r1\n",
              "CIstvRlmpsukSjwKpKoTCCwTmaIKwOVG7ybtTCDljkKKRRyDRj1ZhtWi8uUcsjvXwHAAALKMlJiG\n",
              "3PCcmZqWGNL5a/+qIFYETGZGmAI1WykqYTPq4GYwBzQ1qGNv5ch70V53/GT5ybnRQ2Gcf0x33jRT\n",
              "CFdAy9n+gbQMpiAJ+yw8IhqeT7El/5dGZFGrzYRYjWPXculeu7v7edgVfY5APtuIYqjaA32WvUV2\n",
              "fULXN+1sD5a6F47j3suwzuwKQZZB75ZSGcYGXl3WBonPSZfEgqmIxvq0bLfMRimBoTmZ1hmqJ7Ms\n",
              "D4GGjK9ZHjFU0YAvDrs082ckrfSedmYgZmp+uGFDsHuVYt0sWmB7PunK/bhAd0fNZ+QaHHkpV+/2\n",
              "WRBvp7ABWbvRFrfrzxngbF5A3YewvoGfW2TTRFIGfNxkkBz6LGEPabjAF292GKnwlBc0Juvxf2xj\n",
              "I4WYiQeuK4HZ5kz2zUPxSUnYxVNMnT2+63py+7iOXti1D3cDacq+ZWTVNgrgVbVcR+S4/eYfa+UH\n",
              "TUw3XABSb+cHHg0nbb9Zb1BgwaHo9QLEJSLQAK9BZvZ9D4loWiC2ITvAze1so9I1kiDHG720nwH3\n",
              "t2Ps5G6/Burur2vyKbRkPOptq/duDYVLQABUFNYpD0Uq+EMDUarcrMKnJc1JcbMolyMmUM6U+Uum\n",
              "4EbHovZI9Zz62joQ1I4tQp3IWQrTA86WyT5MQTs0VRTp4qAtS3wVjGnjc9DW8uG3S0rx8kntVg3q\n",
              "lDR5yfqbjFfNsn9aGmEsf/VIGdKn+nlujjZerp9xZm3S6NxL+uw6UNegy7Ovn1Uosuvr9OlNZ3gf\n",
              "is40VnNFGeN56pEKI9oJcwkfpy1SkkfCe0IFwt8UGPxWvQ1shT150wz95Ro/1SQ7dMIc6H+FdGQK\n",
              "Rp9RS9dHO49YZnwV+0s9ysWqkQrDZLVeoYPngo/bw6DdseUZQggUQI/4eBP9QwHKJCKuFSj1vrbE\n",
              "McBENkrLyDryxXz03Zc/m8P8hC30NK0VAMChDuknzQv7eacP6W3Wru5xQRwjn4WFYH192ko1Xr/z\n",
              "/K7SwZz3pnR9k3tVFpZ06WgzQfH8ItQk0c9BJ5J+tdwxahInTr6fX2UVOWTE3Tq8ImylHxH1G70A\n",
              "Q1yX8ACyZq2nZq01e+4qQANYGZnuot52RPVAB6pRSl73G5kXzysiuc2XZ4KFlfHu2FweIynp7shF\n",
              "UKlx/W31QhdlECTVcAS4bzAIQQWYECtiaHHU43u3ijB9OdJdL0uv1WDvmdNWDqkB4p0zGlpzrTEP\n",
              "uUYa3KfgkbgFZrNFs664FhV9uFWAJEjX2Yk8YRlkLEy5DuQtPQK47/MIbmM8AGjvDJd22S2yUxln\n",
              "qKy2j/rIsw5PAiViQzGRQWiZ00taygnBxV514dbi6yxDaGt6tLviqZ5YZ0CIc859GIx5b8U2irzB\n",
              "AG6AicsbFBE9n/z7MmxVaT4d8KI/lqKJlCksBhApxCmPVGWN7Fadv4QvZVECc+q+Iq8qfgZ7Z9zm\n",
              "m1+WM60zcsq/gd4ORzhr4NtQMuJ2MkS0Y8xSSsfwhojnGoRVnkv7UtIM3dpObdTlbToxVGlfy0IW\n",
              "KL4gyl6HJZwKWwjMTWHCqJsdIHDTeCJcISbqgiSpkDc4OUvcdQmaJeUtb71Cd7PaFfwgxpaTBMz2\n",
              "RbTLuubagi3Gkq+QdsIZPAuVMTSTRmQyWFh50DpEoTPjAXvokiYXg3208W8UVRej+IrRMBoUbcCq\n",
              "KNXa74mHWgGDrYEwkOurd0Pe24TLgu1vEovO3Y7ivvgpPMZbE2sOs5pl7cXiL1iUpA2ubEPaVOMJ\n",
              "jB5v8wuoLntyz6ctFxBob8FVNLKuiA4BlIMWs+VxXeRUqY/I3vXyim/6jyzmE3IehrRzii0cmdhD\n",
              "ODc/pkKzoXiXfEfXXc9LHDzbHFcf+zCitQKKBqOV4FXgaERX/L9SgQZfcBA6hZoha1cj5wF1BUMM\n",
              "gq0NNhwQxT3P9rP+HlgDnpxZkso0rmNycxLN39+Ow3WNCpc4F6nG3iV8jSs/rhttb7WbptWtA0W+\n",
              "4s3NLhFir5XSASC36bTQBYqrlXjaJh5ybkHTeuBObGr08iM+tOJikrQYNElzB+T3A2SAOwgTZitd\n",
              "pxK1yYV0mxnKb/oALO3FbnUFnWuVYr/HuD6uvx7wL6IfBV4PkfeNq00y0jLh7iN7lGEVB0kRsH8h\n",
              "R6S4RH3+w38vDInNWNh8spscWW+NX2SQ25xzLYWjuYXfZZ29ZBDrJcU1nKJT7Zz2PW4AGKhX/3bg\n",
              "CiszusB3THfEjseoKwOZHDOZuMuiCCOtHN4e/G+Glq6YcgJqTTIWslleP5A4+PaWQaG3Rs6CqkXp\n",
              "ldhAhqq7+xcufhXbGWP6Ygcmtbz1uPQ3Px4gZnjPhAaCDA2hgxzpLX7eqbIkraxy7R9do7z+RTbs\n",
              "EPDJ8PggKAAv7mv2GIXdxMcpVtnHiFs5eppDYlEp14z/uKF0GAnRX8dBpYUp7XtkXOE4Q6gFASbP\n",
              "iLy88JiRQOX83DStc7adA6vWdoTRwAALKBT1n8NFJcUBB5/Lz0wVe7cGSRwtt3uTUrRtHnBsXt+P\n",
              "dzE04zxTEeTLdaNSRCBTFas0K08yCoQsAI4BNxHq1pNKTWM8Li4ME1RwwPbJ4d7xpePGicE1WW0O\n",
              "67WdkCBP0NxozWfkUqOYjXTGcSGd7oUc8+JZAxxqmzDomaQvclolloXDaa8hHMHsZDxraSOkcouq\n",
              "SEkFzqF6DEdOowLWYq/ar4dWDANxKUFajPrrugLbmCY87LHMS5hsJQVgcNe+BgR0SvMKdquH9C4C\n",
              "K3e6RnhmzCXbVV8wZ2rwfAypYcZYvc5Fa9Gd5qNdNpD3OukMAm2DRmC1tRof8VGmknRLvAHMOcPK\n",
              "pnBFH2Bw6o4FPARm2+eeu+xIj9hShoMcIBHAIUQZU4/i4u4HM5MXLUPUJETlBuzeLI94lCQFJ6XE\n",
              "vAN/JYoeeu7Zd/PUxdjyNZ74SHnE2r1+KoV/yKIS+8qMplc72pgctb8E6yAIirAjr9rDQdf2eXf/\n",
              "cUm1frgptITofETrFix8TVaInr18OgwWq7eU965+WNwFHJtjwUmMM9SUz3hh6gQgkt+ZTIAzIpNV\n",
              "A6cVWDOnr/7pX7XuY3uk6QDbaI5G9OYOe1Iv/OCVBplfRPmSBcSwnSUjkb05g58FK+wL2ND+r4x8\n",
              "kb9phx5dYRGWkRZEj6+CYNWpGInjzCdXnM31DIlT2mMfJG/aYdU9VdrNQQklAPluGSzSeYqY9IVP\n",
              "Zr+1YTdtOMDaInx+q+MWDg6k8XWHqOnIAQxmrRbv3pjxmXPzlM6puMX6Vw8VDzt6m2pu+TDDAnrz\n",
              "mRFGhT55wwDhtLUkPGSmLpz7zmwLN2UNleLctkFouHK0euH+3FdVfUshZSvULd/t6v1S/dc/oqWK\n",
              "fA+Dp4aRA8w32I4V6cwKxUYAN7S1vQzXbyGoseCUb/wFUqGDwSgFvEns5BD+zcODmKJFRGY+v3cD\n",
              "0nl/JjbVq6bMrgToJVcR5Nc69b4t68GLyPx9/dVSVOjkcon6L5EFoNc8kebp1n+ugpyey1Nb4nRB\n",
              "4Tm0L1j2GCq7fP3Hs6JUhncM12cZSV3Zc+wnst/mjfq0KSpV7J91iIfdiD1dVtV+KHZvaE/DhJVE\n",
              "Ni7XZdrYNJCYzd4j68+M72g/lqAy9fwHhEzOvmdmj5Fme7T1XfSA2yvni3tA8zTWQkaUamwYxOcQ\n",
              "2KYXjtBI4DuM8ICjsO4cv12SJF3yPa0eunhIxjs6itWWchJPuQp0lVe+GfdxJ/LtKDvBDzhYTMW6\n",
              "SDIljLwHXAGFm337hvPWfPAogzj/Bvfrfz2wdZkzCyRWkq9tDkVjvlIaW0NMwhVviFzAxRz7FhQv\n",
              "paautGh7M1TbaCS0TCCfX/CS2g46fSoffp1ZzD03TUSJHaYZmZ4XmjAQ6ivPgSkc+iHArJkrQxmx\n",
              "t1Zp7KJmdR8XSkAkLeQ7hk/bG/hzkq1P5G/aDZNFO8CXcCd7R1LDmrnlc/9id4b39E7za8OrkQE2\n",
              "Ppl4D/LdvdE0Y6x3+tixnNmlIfetioXcsGw8wQqctU4183SQ1/Qq7Qc9OeKQepL207Myde15bNh/\n",
              "WfTVGbDDmgIOYs03nQhPI6QZ6R5IgavdXFN0EHYp3c/lHKjCfekTjkhn/Nltb7EyMGc2hczb/W3P\n",
              "AGMDes8aq6T+SgICPS2SwqfiZl9HJN9yCm3jnhNrr9cLeONoQAEKbV3gACVhAAAEsUGaIWxBD/6q\n",
              "VQBFGQaQAbBIADu4F1wLUrHqe6r8AqX2YHvTIrI85tkxY1q9gIdmZszeNUxlHNrJXPnXiU4Zcdzq\n",
              "jdDhTpkJzNmc5SAz/wLlv/cqV9hKnQnwmQqiDlq/WQ0OmvFnMS4eWMzdR/Xl8E8c4NhwmwlfojSj\n",
              "ScVFscd02mB4u60xddx+FRuCEi731AQ89o1FCV6jXqKXtyHivu08g+1v/Ay6/2BAxIGs6KyXKdDN\n",
              "WsKyxD+YCzEZBMhMj4nzQRrRb4MVT3JPL267XCEchPhS2/FPCLmsXe+mWyyikpSsYjIRwTUmCWil\n",
              "5Wh+2OpseSnDECl3tO2He3u66acW0nXUCx82FmlfFQQKTc3GVtedp9FQ13806PUj/+/0twxp/k2S\n",
              "vXRsKK3DZTuuyJ0UU5c1nDoN/AhUNNPGiBziPwesWsKyqX2ohBwABhEV9+VHFJ1HWx7nPCVcyOpc\n",
              "Mf9bQ3f3016AQBx9u6x6iQoir8rsd43qsM49+aQRZCam4UbhdaSZOwoTvlK9tircOsWw5g3Ngw8J\n",
              "5OjdyOee4ZBhMa3Q4+cmA16QionuUsoGoRYwep16eQIDId2mXPRykKfb50Qi7AAW9iwchsALDWi6\n",
              "42/LtYEvBgYJ4ISfOK094pBdRIicfs3TdmaKVsaiNYjcYDbDnulriUJ9s3bqllRnCBIzxLwKk3fG\n",
              "0htSQeCSXWkNRXNres3r+DKN96eN64K1hcYE9IdNYhNQChlRaK/xvdnqfBz6hW10/lIx3jdRgJWv\n",
              "+TcJDJxL21J+Oas7pcETgjr995lAbE66tuIeZKbQGVTJfzg+AMhqkETcFIec2Maj3eOB9nnXz6ez\n",
              "UzcKbf7EPmFdpbKPKwijYWIr9Pq1ZNePdBx3Tjk1P5lSQABIyF8jL21IieI1CH7+vAc+mH9wekR2\n",
              "7yy1YxXufi3xHCCk2p4oifeQ8UMzBsabr2yhIyo2cO2MNpaCVziS2VposZyC+hlRrzOH/lZUnGan\n",
              "33aYSmaZBBFQWpcsRbfj8ummfi2cK8sYb+M8GmdJcrDDS20Z2HZ4MLRVAufW1NwXkxz8ssB7GyCX\n",
              "MG4VwWSSySR5dgdE/Yifqt1ARdzEJ6rTkMaIrc99/bKcsOZ188bqZCwKtRlddtr7W6hyTK2mToox\n",
              "8Z0Xy2WuIMbHp2mohXuILknfj22iEZx4ip8zQzRAKeRlIayGCK/47VyBGH/HWor4o2TbLkovBm7t\n",
              "jqq8SY54og4O2tq02xOVv/5zia6vmVyrx3mTrJcl3iino6HmjfaQgISNh7BEnPAok71QjdwOn+ja\n",
              "XCWy+FcoKqV/+SJqk8Wl8BR0HBUCSs6Y2/X7le4T0Dn6q5EwOmPfe7KTa/+Y8aCbTnn7zI0fVJRt\n",
              "Z7ugRu8Y4B8BYIM9V/dagKj2att8YGNDJEpq+jd9pVd6xD+slCmp3U0iWdtOz3V+VS3t1FVlj9Hk\n",
              "tyzBSaZNC/tWmMxCs8GCZfmtJVcknO9PNEDTkmU14N6ehVI9sKBhvNEIFT7+hD0JHlKRJZIGIwoo\n",
              "u2/Sb1CcBLvTfhx6W0p6wCyM9kl47KQ8LDihe+gA3l5e0S9HnB66wTsMWrw1NkcIBPn1BOQAAAMv\n",
              "QZpCPCGTKYQQ//6qVQAA3kQ3r1wBBpZAxgyUpmjyUss/7vwfSCW/O1pyOFdXcfSJK1vlALgc3S/U\n",
              "dF6+OIVl3COBTkOz70nvzuBhLdomRg93RAuDD3uqLsBh7qBGUJgTBa0jaxbw9wt/MS1GqlTj6Zpu\n",
              "YQSzpP8E5N28DHLuvCDcBnFRhiD++ohErSO5u7+A45cNWv41fc2ICQiyYvrKql1ADeM9HH0zr8re\n",
              "0jKWm7cfhCm7yQCuK1U0mGX2ejhSxfdfhGNvHwiX//NEanht4vZKkDrZPTxG8JCyl5ha/hYRB3sJ\n",
              "ihDIaWSzP6HABoLTPXaSo7sONv9s7G0059CfMYekwdoajjAr+3aYo9/tIdO+TUmdkjvqfvdmQHve\n",
              "bG/VBhHwyIJ9TMe2bOoPMIBg2ljqhQk42SR52iV1XcudWabxLazgIBMzowbqNLM2HEEqcEGaDzu7\n",
              "88Tf4tAoPwvcDAbUZ9A7Rrguw/ps1LtktBHa52jwSwrDtSHA8/fnPFn6tj/SKzftWCg232YHambW\n",
              "EiVlYEtRSzMj13C/XIDDsbffnLVYPzWAAUrvYCegHb1kqYbxMbS83LX61GEsFL9pdL9eDd4Nzywf\n",
              "2i7s4rtzBKHqks0rDC7Bm6EqS96oroA8SToqLIM774cZT5JSSxCmsSWjPp+K99qp+IDS4DHa7SrJ\n",
              "YtUxQ/TR7J9+3ahGFlTHmrynl5hryy4sxJ7DzkIEDOzXBrfbVQIFUsAC2+tuj0VO2It6j2F6VtG5\n",
              "OSo7q86MOJlQ1Y18voHyrPy+EFRaNS583DdJvjHj4d9/dJEbik3DbgzOYiTeqO0aZdhuNwC307Uw\n",
              "+pgke5n59kjq2ndb+rWM9KSJmMQ17N/UWUnnmRPn/0rrYXNUgEAATed2tpThzRB/sd9dNTsmAVy0\n",
              "nihh6E5ZZJ5giZMsbeIvu+mv6itbVyn3q0+E29dSw1S1f7YDv1nxRrJjsDHQ3C8x89S8E+4h4j1o\n",
              "4apfE0kA6Jr22V/BMWq5o0Viu7yrr8Isg6EE4VatUuM9SM0e1INYIzhrZBZiHgUXjEW12vADvINr\n",
              "78cRj2PMPI3YeiGAPiG+ZSsAAAKZQZpjSeEPJlMCCP/+tSqAAG8hl+HWc8VYAsMlUH2HNrvXiw8n\n",
              "0Z6AALY0LBdCkDMIhQUI6VI1T5VFd4gNhtgePAKIRd0iwxvpHV0jeLbAX35ypFp8/hTJd7QjoQMz\n",
              "VXKNgaEQoi/5l0WtFQgGVzoJde+1iC+7i0Hd9ad93Oguc0E1HpFOVfuF6y4sOfRJp1UsboIZWjv9\n",
              "280AxEll4t8V79N+TTo/y/tqgcccVAMho5FuupZNTiu0Og9ULlCjUA5IhFDNcBum+Fg3li39c2RD\n",
              "xpZBh2aVN49siDEziaRUv+baV/xJlD9qi5VTzVnoNAjRo3PVmmdhTNc8seodbfVih1MLzQ8hOrL6\n",
              "aVgMzNSBH5GGtQG7ZmSrsTcVStUrWxWuxWa9pzEEwztKCOPAeLduJi4O/WXO0NPycUz8od/eppKp\n",
              "bCarW/DaQ9jFCbYigBsh9d94+xvvROlZha8PuJk7WNYqW3OGv1cFQSNgp/6SvVHHidbe1Cm5J0uL\n",
              "XTNr5/OPb2RqEwCmjJGPpCDNlqYATCT8veFZwO0eY8xQvQv2yaQ1z+z6Nk82EFBnW4uH/zevpmBl\n",
              "+r3YUUgC/m1xHCnZG/bnMRWtufgqu7C9WtIGOMU/Wlf91Pb/LmTuVl7tklBB/PdXYD7kS+EbvRIp\n",
              "10uX1Tm+TL/aPhUwMCgQ7plGaFzdUDZodBXqX55HwZnNUoS8UUCOuLvAndGVEoePevLZ4YwfjFlS\n",
              "e59BcPAiEK200ZDKZoIus2SBUqP0Y8bkLzAgsRWF+WpR1WkFn0s3Ka+vXY1vXmBtEiLd1J3vamYS\n",
              "dvKYwtkAKTYDb8JBb86nK4mcoxbaWPAb5JEPI+2lTHWgGwfGFbN2BEqve+I8qJv99eyCxuyUa5qs\n",
              "YEAAAAQLQZqGSeEPJlMCCH/+qlUAAbyxc12gAEVQlpMAuSrp33qLVnNM8Qd73A5TcFzOT1vEB0uP\n",
              "bQbzV4KmbmBSQ+JeOhixumjPWyM2MG4PsZTOq8PuW1hGo1rfCMGG8pFKAkMJvD4qddXyfI21X7Ik\n",
              "eZo/XYbVQetmmdEkKIa0FrONia3rfjMQuL/41qnl8nzlHWIBFmrC2hGqOocAa9pGhNbTjW7vpHLF\n",
              "iepxDWI8O08lGZMNHKXOJX8aKPcMRhNodApW47p/Nfu5xglc8RyiB6H2N9Sgiwocj+39/j6AC6pz\n",
              "SmFkrxITpt8ZYgRvpKtkoGNUbZ+eLPiQLo2HEaPud2lzDvgrV0bvJ9Xf6ZX3fwEVFe7peXIzEk3u\n",
              "uBWK2SCZjlaI5Aecwufrp5CuBycGLtT3tusRXOffubuKccUbKtfKkkEkDBiY7rlygoOvpmGMEHZz\n",
              "TZzsJaGYZVSoNbAozSCbBvBcWSZv/YnSXba8No39qMqPzw9dAr6BgY18X3Zgl4h7iOqbiPhFXGEY\n",
              "ds5NVrYXJXDwYP+2sY/mJB7PCr/5ufA9glsIvMcEhpROt0McndyiKNrWKd14Z7IFVG2eX9adyUVo\n",
              "J5ebBbZBXxGop7goZA71TwEeh/Hmj4grLIaGgxTe+JnAdwBdZrgIqNi+7C7Cp6LBk1e1LMd3k3sp\n",
              "8zuDFQRQ61Mmcjhr5EpBTgqYWPJNGiYDo1UIdtCJkDVsHUGEj09U+BEfqpV1NjVPZ50stMU8Q1/P\n",
              "7twHNaqdypP9lM5tPmADiTDCPVi9RTjvPedD+izVVjyY7AKlsIFCb2t7m+edMviNBvoqU0lE8LMO\n",
              "PoZCAN/Z4Oa6JVQexQKqodJ6ZnBb3fMw3kaeLu3SBQ8/eLtpyTVDvU+SongPwNy8SvII/F/QnPe3\n",
              "oBzeY/7/r+mWGwzAfNFyUr8Q8zqFmXGs5judp2SG9c2WIj4UQzwoY1uHIOewjLOU/aS2j9+kl55M\n",
              "ORQAO06wlioqUtM+AQ98mG/Jn5cNenZ4wIKzjnMvWte87bEh8ytKHSRheUS4/hxWCzAxuXknsqB+\n",
              "0B3b2X0uqUQxWIXeknBICgHrfJQ11ycq4Uwto3F/Sj10IAKI7Z9ffNOWJFzA273HtcEqtIEHaUBM\n",
              "KZyGUbU3c6bz4tu+m7PQs8R+WHvl5XKKKZPzGpr+Sx4k+8VCmSB5sBLkH/oEZOavukHn2cIdHW67\n",
              "3VeY5XPcZ55l5/aezYs/7xkVaCl//mxLNvHUd7z9dZ5BKZzS4D5iSxCrrF4U9HIhK/PnkO47iVtU\n",
              "Ywbuq4ATkOJfNeYBSzVBXZ6ohPVXXoq2o6KHOZ24sqgMXd1wGpV9amDaIqHlsK3zhrJG9Fc9q2W2\n",
              "QconkbgArjReibhYiBaRAAAAmkGepEURPDf/AATWvbp3vsa8YvmJJq0AN2OZaWiZ34yWINVliPmH\n",
              "kW7USmzqZ8DrHNiFqq3yFMtca9aBL6mI/UcB+8zugtwXetPl0YEC1QTVJB0k4KfccG6bHTFCNJJt\n",
              "JcTUu52JO6VDrNB69l0IMSkzyptz47jGKKnUbVCO1rErKkEiMQLhQ8OMC90x9b/LYtrbJt5ArqYE\n",
              "wQcAAABgAZ7FakN/AATVleBlADc2F1GMBmju5qoAPyURrw103wTmyXp4IB43fTGTS8m1qef83uN9\n",
              "dShYyGsA2TuXfs9dm5NkwwA6KhEOuQDE9V4BL9bBrGgw/GmPUUCzSZHzGZ7BAAACUEGayEmoQWiZ\n",
              "TBTwQ//+qlUAAb4jhUuC3wA3lqc2dZZC2l3SPiDONnBwMpBiAqCU7MYqofaL/TpFCIHw6rSmuZUg\n",
              "tWv2kBWvkZZ/3HBpWTDxZ83fDt3s3GqBdDFlreGrIxSMT1rgOC2Z7rUuRTpxgqMETkk+lZVgrZMk\n",
              "FTMhC6MQXqyv7v5uLRew9WNK5w4nJYdLmNOSIqltrlDIUQsf+ZZITr68iIdZwkEezRsz4ECg5Aja\n",
              "4MpfSEYluPzoYa3+voFIZZ2DLl8ecmExvONTrQX8OcqX3WFWx8pLBh84ljZ2t9lCPZXGKgG0iFf7\n",
              "DOtCmkX/FRZnzPz1lUML7Wibh4QQJJz65BfZPSL7lShUWnbKI4x3Lmh4VcVL6E6iBWgvw1P6hrfn\n",
              "0viHaL25vG9Pehfy2upAyH1Nl+utj/tKatXcV2nZJY4Q4/fsczx+6TiuX36bvxj3muol2CeIIphl\n",
              "igMUFGGp45AKvg7ZOeFiiZKXegY4ArWss5McUZ1hIcoLWftIamqdNIqtAgh5sM9KRXuvAidK0vY+\n",
              "URpJTKioOsYPFgLWDdn3eeJimWN+1VLVAyxaFkpvm5e/OO6E0FkBQ5jDkwpo8h01w/+/2Jgwo+uL\n",
              "XcmB1wtf8gf0LJCcSTmkd+RKz5j/0IdPW6O4Wdha5l4SSU6zUBoU8/hQogZgzqbkd/AKNng+ywt+\n",
              "SRqoNesmO52OtBClrx0a48e/QtHFBwIVTDmqrk7lekbygjh2lQ29q0OBX4sJKZD4h3x8JE4bqbpS\n",
              "YLzpocG5CDHsARCuK/kAAABMAZ7nakN/AATW2PyhS/VHiHcHTqx21Mj8v82w051juynUfCm6m5od\n",
              "kUGvOxBx4TeNeVwZXDIHWCkF+6jrBfwxTj9nNYUUi1YTlrIr4AAAAiVBmupJ4QpSZTBSwR/+tSqA\n",
              "AN9FEH8RlQBUux+T0nTo+IqtojsDZsSpWNk4aHFs/+sv9277i1q2v+dMg+BHf+oeagzxxdbn3EKR\n",
              "PPf2Jcu0cQfEhjuBcUImiNqFoeDrmHsPdPMg0gVN+AR3WXDU2pK8nRPtibCSKVLP4pjYIyWXn5yX\n",
              "Dp98ytlv21Fb3ZOybYjZI6cNz3rO8ze5NPUSb2coQvuQl1TICQJ8+o3uu8MUI0brQCcGmACAlzs5\n",
              "chLAEpOEZTUi7hdU0ZvwB0rLUrWXp/SP0Gz+hh57Se3flrcJKZylmjykeQbLn0slwfgKWha7A1no\n",
              "LvLG3TtdGwOysruW93UC1kySzprUwiwhE4uDonuU9WT8rghaenQK3U94VQYzgFniP+6RZJmI+lHQ\n",
              "8zQmQ5JcUKr4aXOn9Ri76L1OvQWNlyZj+4YnbC7rmgF/dtv4OmVZFG0RvhoWt/6f5+PGWuy51whR\n",
              "d+r2172/zYv7JzNlfjGukcJaMNoMo/sghMcCLsqiF99OfJadsRu2pEhdg1auOeGD9MTxIQHxzZ2i\n",
              "TajD23I9FjF8rLRgRz/uLxbGMcWToSCh7PHQlPBvXNA3IVZNmW1+0YAy+reOs4W9zRcC4SY9E5Bz\n",
              "GS1IAwyAqQyS5PhFmQoq9si7cHR9Ozgo+MVPsG/RNBhIWcKa1C6GliF1C86Jy8xyNes5M+dGhpdT\n",
              "duLFK303lNeo+5jzIsLzQw2ZpIAAAABNAZ8JakN/AATVlb8ar4jYWg1q5xvygUJWV3iuWADyoGQ3\n",
              "Cd5URZEL76YsYw/26bKsHd89xiSQQPY+LDXnqJnT8uGeeSaSljxkSQo1O0EAAALlQZsNSeEOiZTA\n",
              "gj/+tSqAAbzmMIf4A+qYIKnEbLyP05xRM/EvGr3uCzsg/bG6/mJSpf6i/sS5q4kfSK3kjWzrFzw1\n",
              "+f9wqa//yPzLDJBoaCo7HboXPFRO07+SJgwu0iX+BfP98bqOhhaI8RdpJ3K+cr5RF587OZ04vGk+\n",
              "5wXhpRXvSoKErTyh/dqST83WZYU/bIpXnRouMzH8KmF/xyxukVrx/609b8eW4lJN2prZ87FfoD6u\n",
              "u8hQfaKVGH3B/ond5mOIzFa2Bi53rJCjwyIb/OVY+WYKwmzPPM4emx88cZI2cJbQtiG4fXKAgz1n\n",
              "OBtVGH/gJ3iasiDK1HxGyd9MTFWHl3qnBzUZdpRZyucengnf5+4MtFuCAN7djtJK1a4jADTk4bTJ\n",
              "kH7XvoNvNra51Pflw+5MEs35O28WqH9yARx078y5AjeekTUuEAxKATKow0WtDzZCYnYv+VNNr+MD\n",
              "+/IXfFwOIRpJKoSW2u36YQf0PTfEBTkwM/QFzkOmnSZsf7KZ0s7F4GZtKXu8Pi15JaHDk1InTvn4\n",
              "ogovzhEi/0p/uVpLzD3btap5DHph/K2LcEDShUCp+WJIcBh5LUl7Cdbgr8jrvXfwr84cWL9Iy82W\n",
              "4mGjeGLNpmDbBDZgpFczeRk4RfoZgQ1KoWS8N+YTye8X2kSb74Su5Z7kSUwaakPA4h0FI2Okg4YE\n",
              "vZrRU+KImuMX9cRP3jP82Z1w5wc8c8lfaxk+b89H5EcUENwCDuHiJTdOVumGGvJaHpUJGwPLUYXp\n",
              "A8fHSQhW1cLhB0Cautmc25LkMznZeSt2H1Bo9nvslK1ue+6z8zA84yF0H9h+dVl5RWZFTgJhLdG2\n",
              "Ws5fsCL9I8Q3W9AN0zseoymj9lZ8xJa5KMs6vsJX5pP31uAa962a+mGm5J42ajrO6eYJ4GLK92Tp\n",
              "6un/SQsEmGnFxMuXambKBZEQIeno79Hv+nzlMAJGyGEd0AKk00kd+zpzsMaeZOuAAAAAZUGfK0UV\n",
              "PDf/AAms5VpXPCbfi1clhccAAsaehnxW3i2Jerk/aL0AMy+lT078Djr20Iio/Z1flR964sOcfWsq\n",
              "laLynSyB0g801oowt9IwcGbCzSZCQhD7brwROhDtlUM56QRq9rOKAAAARwGfTGpDfwAJrOJu3P81\n",
              "LDgetNb5CIWiBj1Fo5Z11EPoibSXeZgqOoUE7WpzcBIcAAXhHPMfsnQEKm9awz7QoxJj3LnlkRAv\n",
              "AAAC+0GbUEmoQWiZTAgj//61KoABvoolA1rUACPSoRUuz/b/tZGxYtW4XmN2jFuDPxJknodlfojq\n",
              "VJ1aY0JpA5lWN3A6UzRHxhfl0tJMzRJqBMiX2CpaY3D+ODEEvVxLFJx9vg8K2F8M8y+VrvSoyiL5\n",
              "mjIZYiU/4yBvVrNfDTvX2SjZE/0bA4KDw5k9aFEHkyEw+oVS+C2vjTZB6EVrENSDSee/GXQQNlzB\n",
              "6gQOjKsToVobilAx/84gia39s0NN11/ejdfIJY9Mh2rCpTrZ9DFntRWtsRXX7pmiTYXZEBzV47oI\n",
              "U3gvRkkaiukUwDNC1w80NBWtVwK3lPL9/+oinR+0ESmLCOPonUk4G1CAba3aUIRMInhEsY0kkvKL\n",
              "KbhlYAumS0Tr8kRKfJ6tIPb6o9zo8s+HT6M7ByEURupRRS4JEduzTUEgg9TwS8Xy6YD+Z3+0NE1a\n",
              "mCqWLvLd39SwUD7abHICEfUaMbY2cCRP1bSsLINBOvkThQNq9qYNCrloG+yIOFf665YG4prZ0SzY\n",
              "my7H0SZhSpZdyttsErxlO+BcUndqDKi8b96GlahSYw45KGmeFGubupZN9lHjvYHE4Ezr2VzfuRD6\n",
              "oJFYufhZ9g5MjLzzSIBaiz4xRA8brjiK/FEPPLIQLnXYOcRNzcMCak/HtjKhaC/sFiIBblqTSQIx\n",
              "DEReR0l0vG70dSQWzgmjV+SdxWuh3ceJQrMLtALrc5QKjX5qbNbaC5NvPFwieXo/e9RadyijlIry\n",
              "iIabmpGoUzrNDWr6+7N3uGd4mjPD+ssUUSuZpCCKS76ekx8b7SDXJ/4WmHUksCxlzlhXXihyqk1W\n",
              "tF17g6r9Ll8KmLlWQKfEOJ9160frSI3vfmjTiF7buGjeTEdtJeDXbOCSd/gC1Mfo9mulS6gBHrqR\n",
              "NJ7KTmQnBgQcE2dsrMzOSVFzW6ZL3Ju6kOK+61O5IO1ZxrLLeDJfrsc0VcRI0MbexzlsTZWaOBOT\n",
              "vM7YXvgIj+xY1pqZwhFzwWYr5Oz2SLmcpvkAAABWQZ9uRREsN/8ACasseRgk0TvZD+/bG/BL+KFo\n",
              "0mQ0TxegL3qhM5v8FCyHsV9rs6XQPwYg0EABxcnp44iYiCEp/q7xlWfzKPLki4uHC3Bqz4T+weX6\n",
              "hMEAAABGAZ+PakN/AAms6fXzxfqrDYr1g0cN6JAL74mAEOcfUzBH3+YGY0OBepX4a4LQZcUEUwiX\n",
              "L6u12NgukkLwtSKa9EuJWWQpgAAAAdhBm5JJqEFsmUwUTBH//rUqgAG8j5RvhvYgCnHckz+iTkuq\n",
              "ssUfGDl4AwltNfJM9Mxcg2Kq79jHTVbnkKgPw48yydw12Pl07uyDRZ4jJqhTkAdqdNLkh6IBHFIM\n",
              "FJ7+k3S8odKhcIQ6IyjiUJLQ727coBD2M7WS8P8THBYXbrLPmHa48S1GPVE9t8HYaP8s7rjhvYUf\n",
              "YL09JenvF6Ju8SnEqId6cQnX8XPI0wH6S/fVduFuA00TPURzAK7zaVFJIWxFHBQOc6flUGzzL13H\n",
              "Xa3pSLLbe/5TB1zVpn54KbvrdkMoYujw/1zHl8ZfN12c1cVGvou8MhcDBNmn2zQE8zooAR2985eN\n",
              "WwRpvC/iFf/QR9Y/N5F6/tbzvcdF0M3DbP/rYvqg9NfmAmA9DEW5dGnZrZrioyQRQJDH6Ilu+LnV\n",
              "ugfj06SkU0W81zudgd633oSxPb8Ogcqo750/Dehv/WXe8nfjGer5e+urddtQnndn6biWsGxUnMpe\n",
              "vvlWaILa+iohqJ3I/DOAmS4/pvKtIf40hRJh5HL8vuONl7sr8SPbCBLhW2+iNvOlSqK6zox5anpB\n",
              "yzXA7EpF0EmIeOqNRw99Dz6Op9w9dp6hHGAcH5uLH/CvunHrPsqAAAAAPQGfsWpDfwAJrbJOYU5E\n",
              "WAq4H+Pt6ZtRwHiQKe2jcYgljHU1TxahK1YP3IJ0BpuNYXGYoBMRzzGmjsPisDEAAAKiQZu2SeEK\n",
              "UmUwII///rUqgAN5zEkN6gFPNEFW7zulW6R+JMbwtCmz+WSSw79yZA/KnFW8AKYWAyq9wEcqCCW2\n",
              "6i/E5JERMiF0RyhKgLj+pTbL9QbGE0h74oAiMwcjKrmM7Yz6o4BLZY/N+yIT3B/nW8oqJRxNhGDx\n",
              "/wyPZExypdod6K8smKbNKv3X5GvYviqD3rGWyuuSqgI8Tx2KsjZ5+qBDAHzDPP+JO7JWHhHD9ttd\n",
              "tz907TH70qOaH7+xcen2xAgLn/4fgFSwZNnwLz5a6umCugQ4pg3GozEBhQXJcq3tD13o3Gs21u0T\n",
              "f4KxXesJAPmvg/6D8lO+QI14zKbk1WZZ/PtVbbWg4cbRjr79Zm1FQ7qckv5uQ89/EAByY65XBHmJ\n",
              "jFoNnP/i5yQjP0A3wwmyfmSiF7IlGfMqFOpUH/AXvZkVqrr7jxi8RZqnfWqAeZsPb2dNHfa7TE5/\n",
              "9xRmFV3a2z8d5SEg5trcQaHGfQfgirFBetmfDhJL8PETA5OfYA2ot226UHmRMWQHRqe+3Av+hCth\n",
              "spvCEBKUXhF5hTwHa1VIY9u/4Emo7FvOW/BexOnk+QnoZ7xhWPUvGJ569cqCnnFB/rE5KVifDBFv\n",
              "YQp5IdtqZ0E/pTgynZz1larqcRFPnkNHZrHR6mHopNpfGUUR+iLi7U7YAyg8RR8a7M3kYCKptfhV\n",
              "PT7+t0a3J3ACfeiY1x8Bw427yFdY3+MAEmq+0DhuViCajDvZyGr6nBwdU12DQF4Jluv+0iRWl7lj\n",
              "xujLmFkIZOShr7qaLR6/2CYre2kQ95l3DTJGu9G4tbSGK+oCwaR4Oruy/1SHgb1H+bXxCrFi4DVE\n",
              "vdwrvEK4bZSraV16Pv+CjWXMFC4DUcMO6HR95uXjKogafAY/iYMvi/QAAABjQZ/URTRMO/8AOylm\n",
              "6Rh5jKAdcddXjp8GEZCMJAV22wpC+HW3S3c7MlKfxOjGmG+t4I2McZCUMyvOdDN7nvfoASV7ADMn\n",
              "3vLkbID9uCdBRdV1cOHJM4D5xT/gQIP/2CvtMwXgAAAAPwGf83RDfwBWUJvOIiStIzyxXvL2I2Wh\n",
              "s2LqjOfRDmI4OPbtpFXEequqvMrgFh6aeLJYuHmG66gS3JYZakiLKQAAAD4Bn/VqQ38AVl+yJsba\n",
              "K/lxfawl+AmieBiHuOiqyKeiKUOvZ26QnzbF3kb7n060RuSi55dXhRQSsU+SnlUDkgAAAoRBm/pJ\n",
              "qEFomUwII//+tSqAA3nMQO/wCAqLMm/CMOzrPruJoXhoGYX1glc4fQ2o45p+03ABtFNM9r1xsHvp\n",
              "0E3gWnj2oy9Q4dWT8yNigcLQmr+FG5irdtIZXJgPhzWJ5JA2xiX5TsxEgk09EEhCeDRGyxG+Q+Ve\n",
              "GLD0rYhOhO+mk2mxhZRZC8ies1Mp+aT5HteuAyHdarXgt+7HPmG7srm5eOuBvyY3qGhB7XRYnw1C\n",
              "oiwXTtRffW/ME49ddLodKmCLhQCc3JBs4lGjkm1lh9hk2aSkZIYL4aWINo+zkJ7+erCTaehKJSJd\n",
              "9k3rnhlNN2PyvXcPYJOQ36bxTa2/SmMKFZC/6/ry3npiAs2VjuQVaYsSYKxkTSn9RKRONx2F6YqX\n",
              "Z1FS+Nvl8rvpU7Pxlpt9rI58GWbrYMHbL39oNZn7ZtbNqiAqnuoBKFS7x9bDWRzI6tnyd7u1Qy8F\n",
              "ihbFBeVXrow3wQgQc8Au0QtlAO5FFA6nreYZspGUzPwyrCp66D6Y7N6d69ard5VjFpwR/oczjPgr\n",
              "1UgtRITrCCpK0NoAbe1Zf9SERkOlF1h3iM1Qgf5710NMXNp3j/Z6/EpQQCl202t2x0znmz1Jmhaq\n",
              "Lwk5dX5dYOw76ANyjBhoNyIaRZlqJqEHzYxDswxwe1eSOeO8rmj9dgES6ALswWRODfMy4cHhjMNI\n",
              "JxvB9BPIM3I8JJI73Z6d8Cfp54VKcWQ8D0zA4dg2YHwj5ZNnRQO9vvPXYlyQutpdap7fS5N4nqU2\n",
              "ZiOKt19nf3dVtZMWhdqQusbT3pUmWooK0AFJbHGBPcf4TJYfSL4uh/sIw7/ddjNp04de6OksYnjR\n",
              "XBJ03Qh01dj2FDayTQAAAGhBnhhFESw7/wA7xLYckIzCIasf3aWnqeM27+p7iTYeA5DhSeEap0Kt\n",
              "E1b/tzAoDX81c/p3RypHnc01PQ/O/eZaAFyvAoc25i1AkKsZwAHwg/4uSUXEXhUQXf1P2a7ZQk8s\n",
              "tJP8z5SjaQAAAEIBnjd0Q38AVlCbziMmuGWi6kpeFHeat+w/+L/bCW1uC6iBd0w1ExUCO1HzVtWr\n",
              "3iYi4jBBnMR9GeLT+gOGP9N/BuwAAABHAZ45akN/AFZfsibEzGpUvn7TpDYmZwn2LnZAgjHXTxKb\n",
              "mxBiokWe00sFx3motPG0S15iy2di3tjk4551OhNYRVJ3PrO6gwcAAAIxQZo+SahBbJlMCCP//rUq\n",
              "gAN5DL7edLXxQBHJmyAXgUdKfajyQ8c9HhDyIrPb9hI14Qv7oJVsRS/+fiSdq6iau76r3tRYCzK8\n",
              "diLyF3y9Xus94eybBAkbngVo0b1OLBvWcO+Hk3mDYygDjBHwIodbSkQvgR34N7irPKrAcFPnG0nQ\n",
              "QS8jTU4I25hFyK/YDNyRm+UUVqtIjXdaJIcWx8k9RYhtkaoXxHm4qLfS6qWixPrB6uia5HJkM6eQ\n",
              "gxdIigsTeriwo2sdd/+twbRS4mPyoXsET5qq16O4jq0cvMxyMXGO1d1uzMwrJRW/zPrkSxGmhkv7\n",
              "5BwjqUsbw/IGFyhkGMtQr9OaauRof9oPPdqpN6iKDzsOnl5BSxG2vbSATr6i9jYM6vKrS106AEnE\n",
              "NFnSQ8SfMwaLWCbNbvgjMgL9e7IomxM2REqno+RkDkJylNi297WDd7AOz3ECIqqey2ZcKj9Mxctm\n",
              "Ie68mY+9h4wZsu/6hItpNtY43aYwtg1Nzr4yZuzCQ4EXJPKULLLq4h+GFV3IUUj9mKAzI9QWBIGx\n",
              "GIEYw0dGOpk/2EfLDfoznL6lEeU6iR7nAD83rk4qUlym7NcseXNq2PsABibWqvwaczaCo/VQy6Cd\n",
              "AYQ82eZcr1gjuuI7xvgGf9MAHOEWAJZY+rMEWm/RLmfem5bNH3+2ZQkJPpzhnK1+Toa9S7uap6Fu\n",
              "Y+ygARFYWb1wHrr+jfMIO8kM4AxwjML6zrXl+GTkaatoAAAAW0GeXEUVLDv/ADvEthyQ23EUnD5D\n",
              "FQgcS8ltRqAZVUJqsmAAeVYyFX2+Tqm0MoNkSz7P3mBnX+CBfvZV102SAFntzgZ84l7b+Jgpcpbo\n",
              "1A8r3gB+ugEImILKGYEAAABbAZ57dEN/AFZQm84cPPGjvB3+oEySevR6hW70B2hVkrfXmGRwmFMT\n",
              "/KTPGmcOBVACdlx+DsJ/fHaK79ksYWH+2xjP2TbVTactYX67oxywnJxWT5B3HIgqhuoYkQAAADgB\n",
              "nn1qQ38AVl+yJsTHsxmh/kvce90xe0WfYQ4uYZlCBdMWBMluhbKf3M9hZDfAipkpu3TdTjAnpAAA\n",
              "AkNBmmJJqEFsmUwII//+tSqABvOYgd/gIMslA+ZdeRS65AvqntKSiahaj0GJgSdEkQdO7ef86A/v\n",
              "/FWd4r0ScFQE3vVs7KsGASo0l/NuWTTd/RUx7bd+Zq1EeWuMtkkcj8MXsRYnavZNmV/Fp8negVlD\n",
              "7yLj+U5Jrg+wNJepzkibOxIgqztYoB2ONCTHEudDLLqEsTvBx2yVRoxXJ21WqBgrp8BceUNYsk2Q\n",
              "dDcOITm8OLOdLv1aZfuZRoh3XsLZ4sCAJcvJzYfPCLX9Tbs4U8pDgUI7QR/Au9226KUSOKCsDZZc\n",
              "/MqEtY0ufoEJAQHQqV5NB51IsWX1P31l8F8YtCzx/XvxegGjCNVJ43TegLSzYY3KXdbU4+igfuK6\n",
              "qJEO0tGoAJCyFq8sVvOuF/vgIw9VYHqJLvE9FOuxKXhC9L0OMfGkd9nCGCoG3vkdjRYdRxb/HmBp\n",
              "4ErqMFgE64UiPyad7NaoisW+rLU+7wZ75TNdFF1otm7Go/c+Nu+Wyi4up6ug4BRlhTnQXiMox33i\n",
              "e1ZCYh3PGyd8tCvun20LolmOhj3OkG1y67RhYAcWKpvPxqF+0vD3dTeB3NE6RKTxtHT5xSJMbZ1z\n",
              "mq8dUkCD1iJMXugxVV77RdGOMlayo8IX+iuvVEJ7ViIdqOnIVAHlfwzEtjsBOCUqN/+FzSx6csh9\n",
              "fKx9cEPb/PJaJ0m+Vz7Lw8JpPlPQaFgxs2P+SfHLqFCBiO7V96wt25QAizPBpxv1HObEz7KM04Q7\n",
              "F6dJI9OhIVZtzl4AAAB+QZ6ARRUsO/8AO8S2HesOuqwdyW4MYmlk3UKYc/Ys9GX+1BgBicSD/LLu\n",
              "2vrlVd7+qNSd3IdNnP2noekkfVBA1sQTtDr6fUhb44MVMXNej54J0SZAYHa+i7NpGojjdEm17k2M\n",
              "wzmxUmtO70srT/a0Hi9epIJY0oS/qVlLKIg5AAAAQgGev3RDfwBWUJva5ERtOoDHdehCD9sSsD0y\n",
              "K97BmJxaU5r2lnk3KtrPhSExndnyns0NWW3iF5DDGI/Big+rgFOTcAAAAGIBnqFqQ38AVl+yL4mP\n",
              "cpTSoCxHe42RR2YWIjpepHRM+MtBr+JEdhTDCPrkABK0eLtOjVA3wX8svgN5ijoWdM3oL7lsg/yE\n",
              "hqWOfhjpEpnpDLtgdFmLG+VfKTQOhkSnVcb7gQAAApJBmqZJqEFsmUwII//+tSqABvoSNQ5ACaeM\n",
              "tIHQ/fNPFxN4hpGwObNjtU2gQLk5IhsMypwErC80OxuJOJVJhYJUZRJIDwCLp8pjTV+pD0Im9Enn\n",
              "xpOpcnDXuF9Rm39ZvbzwUlT2VGkF774cWMmAu2YoOZsidw3FBMPplwuizXXCjDKU6LHylV6kfiWy\n",
              "7cOhGElEpP6vuO2vycxFfvMcxcRffeOdncUQBtcodUcexGDZ4qortXoZTxZ0mZjIvq028NRAA2xB\n",
              "sxX5JwAVKZqreGsYxLT+xT4XMEPrbOL3oOeG47Df9bELAG8sM79NCG+RFEsWb7SLBvjX7eqHUTmi\n",
              "XC6lCY+PNOskEfkf00q0omdYXyrAkgessQEw8ialVttYSGyF6Z4MudgZZSQUkiH56ma0mZO/cyGE\n",
              "EuvMYsCzLwaR+Pi85hfNL60GftfvY+h0UVPQfqWDuG/65eWG25NXBK35gu7X7pZMowy4Jj+Jc7Jr\n",
              "WM2TQabpNtFGRFEMO7OkDZ4D7pKNG0ZXy1o8OYL8VGrIHakfu9Y8b9nZiaoe4NsZfIPEIuJJmBXS\n",
              "aRK0zNVrQYdy3yOs+i/2vnlHfAXJoFQN2ROivn+3BSY1f5z5Tghxe6pdQZuDTRdZmuKL4boXs7ph\n",
              "qikT49Yt9VHzSQnWWzjuzujVumse/YpOWkbvhngYAPpAC8krGgGd7OD4X9/zbEqH4AWpI+6JDYAQ\n",
              "xV80s7gh9ooGbRbUKq0Kk6MbJvP4ZOyLekyk1jtpaHjgaV8yZtqeY6cMbrkch3rsjMu76elgmVHA\n",
              "hZkrP8IuWPyGFQusYcy27zCIvBkfMy8MN9Cm8QirlESDLazgIlYTt8ukcsyvrO1vvPqtZdEOUk0Q\n",
              "o4Gx5IK6AAAAZUGexEUVLDv/ADvEth3qbFHkGSTAvpP2TRKKaOS/PrN8LaC5ALoxwKoeWyvJp63m\n",
              "gSlS0PMXIMAEdQFKUDMWPmmM0lmMaGzrGEyiJgC87b9rvr8vMFUOiZKuBMNunV/v8urbwZeVAAAA\n",
              "SAGe43RDfwBWUJva5min4Kfk23v8co7VVWOeqbjMziTm9Nz1qS7v4UI8r3wqjm+szZbujm18uDbG\n",
              "DMdn3QYVAD+bKPWsmFPFvQAAADoBnuVqQ38AVl+yL4mhvWr/O4ytFfPXW+agG62tBlSdddL/ODMA\n",
              "VH/rWJ5o77FQd1TdUpep9SN8oAu5AAACfkGa6kmoQWyZTAgj//61KoAG+ihz6FQgAv4op+DnJ51Q\n",
              "zHQBY91ghvkV1r62oCLGf43PRWUISEOVGbjXB8u1zHMmMFNAHFAlzUcDnQC8H22dMTEqiqLcOCle\n",
              "EZZX+zXCML65dH5/o+4qCmoJ9iqOAKR61YnRXyuh4tcYP94+9iA+1YCAzwKUgCxfIrtbGLuPIvzv\n",
              "UuBFnUB7BpSL3cspaWn3n4fGwYOYaqDEPj8Dv6FJDwGDYjXJ38JK4I9sp3L0um1yhuvzd0cUeU8O\n",
              "O7Irg8z57QJH3dK/yD2X4xQecjZwuOrvWRyAcAYTuIzj6ynj+kpd6RU05TH5Nmxuvm6ZLEUCyVR+\n",
              "FC+4GlGeUXrR7AJAjEBCU2x0Q/8XydvPOjN+jdx3oNS5n6M2fsTx6IOdwH/Ct6aCKCnHOfwLkMMf\n",
              "p2+uOR587MwgmceEgxQSKIZw7pEHnoFBV+sK2tbu1XNAdLWpSDNGn4qi9vxdKgT1cxkLDK+2QrLI\n",
              "hNt961DSE2KTdThWPIzZtIQkr9J77JW+VGldcYyoQvFtTXhH/yqiF90HsnGwoKPv6V3P4UgjXyyy\n",
              "lnxLQ8uJaWoWWftxERgLCpeA3OZHF0tCRBpPYp3JNyPrgvwkCIPqWyWIDdsA0ynoBse0o/ZBT0Vb\n",
              "9cx+8x34EyyOjwCP9r+PhpnqmF1iX44Bs8Nw+VbnXFN2FqJGJthWP6hBbAIzRLDZy6XEmeaS0S6D\n",
              "/EAwQXauDP89/glM5F3KvWdpCH3IldAYNFiOfaP0kTvhAeifxtsgOZ+b7LRG+5MbNEugmfRafdnv\n",
              "P44UC6hN4UcphaofZKPrw6PpUEHr1xmUdjcqH3SlqZntloqnAAAAVEGfCEUVLDv/ADvEth3rDNoQ\n",
              "8Ye+eq8fCjTG7e6SmkGDfACwSar4XVuwNzHTRZ5V0MgRBgpyWlhkr4XcHdvoMZAeGmrqDvXwReT0\n",
              "kqd+BSmxQ2BjQAAAADcBnyd0Q38AVlCb2uZWPl2Dv7p14NZzT2Lrcr1wsq7cEn3Ry7Ox8zsswPht\n",
              "G15pIT6uoukVp7d0AAAARQGfKWpDfwBWX7Ivfww7OUAtp1LNpSBwhfkC0fXXej6OXKTXO6Z2QJAN\n",
              "0yUCCIRRuhEDytgBa8kKYyuTle4wZM4NhBSXcQAAAkBBmy5JqEFsmUwII//+tSqABvfqCS+gAvzS\n",
              "8y4yOVXcNhmKW24+X7oVcfN+HsMCqAh3WloVh3ucUOq3Mb6vAH5v8rGrsiSvc2oZ+FI/pTvVt9C1\n",
              "WldoVNY8p9zjhbiCZfDy/ICxDZ7+lThfdo2e+kYNfBDi8UY8dEUeCqzZW4T7zyU4/My0E4CpMUj9\n",
              "KRtVa4+c+bIgg6yBvCafCNFJVWW9LzN9SRuY2KGupPdjB/m7Sr5PXc1qHhG4mDE1wYJgsiBkYlUN\n",
              "FLywdhW+XmIszudT4hXNNStErqI2s+o8pmstD2nbBMTGbnB8KBDX67QN0b1TXDvF7I53vVENUtaN\n",
              "1JsiPDfpeKamBfPvp8OEb/Vv/alghPQQKEfqaz4hSe7BIEMg6oCLaB1kMjymH8ihYVwJdJ79KTx2\n",
              "8XAqJAqJBCMC4gwzXpOgdiY2p3Fu7vgTRy/wKdWRCWa0vicbImpNVvT1OrpYMP8RYbKmAQMCh8rM\n",
              "bOm1c5IGh6hXxYNexT7LKua0z8GmlB/q71vbMhGJsyruPJp9ekNMG7rSKFGTDd62pgH1vhVxe6Ij\n",
              "YyHnkFSCmbZWwWnA4Y9PjTnGdwTIhN12AdYHH/JoLKXXjK/xfFTUZa28IJO2k6cZaoBWbtnbBmEc\n",
              "UOmGxu/cXw/agmi3Cb5hl33SPcFsZVrWbGMChN1AILx2jvHiaSpWE+4CmZao1c4IdloPj+ViVkCZ\n",
              "d2xtuyJtSm4msrRKN5COC/A/FmbbxITCDIYM3PGb0RU+lM7qsUwAAABTQZ9MRRUsO/8AO8S2Hept\n",
              "YJXpj2uaURLx7QJ430MB7rw1Y0EWrbdQz42kYhsxNTM4AK+bg5ZXHZ/YRqWZIf2L9AkjTIbyD+bu\n",
              "o0OPDfvw3+HcmR8AAAA3AZ9rdEN/AFZQm9rVEsZbxITfAu82zDf0gI6RgF3usq7iWcBHr/Hxj2us\n",
              "7lnLXQmf/0mw5ZQtoQAAADsBn21qQ38AVl+yL4u0Y1mOUQ0GBve51qEUyvU9KctNpd/4S27uRI/t\n",
              "dSPyZL5pRBzPXU/NGKOW/biJbQAAAh1Bm3JJqEFsmUwII//+tSqABvbJe7PACuhUtLUKHQlIflQF\n",
              "8Izh/Ef8K6vlD0n/ffmSuAtnFK09az4PHs3pgO/YoWwaHDRndLEvfF0KMfdyULls+wAlFSU8bHQd\n",
              "avxiKr7kUPnCbLNWg68VONulnrh8QGGe4DpCg6th3+sbWsrZ71j2+07ibuZrYhHbbQph822E5hNb\n",
              "on3ULYBxnfVKvKTPpHxWN8oSafDkWQYnXU/DqDWdSx//NYtb/TWaKcWKhFHdCXtVl5htXpAvAQm5\n",
              "igrdlUTSbJcKCWDWT6iImtwDzE7p83CQADeXuAaY+AZ5bGFUEk2cpORvncAI2zCGgqD5Robys4W1\n",
              "E1XLTJud73xrEub/foHZBtSI+TxGatnzLpPN9hjRBPWx9W04/LQicS1t9vx3oS3jsOiedsP8orr8\n",
              "8jEKvMlhFA5/ydM0pmXZRD/ZQ2v66Pxb66Eb/+UFv4w8VnxqYh41PhM/3FT5ZE0zZLHl9myDbB4l\n",
              "Yix+zTwkWjPjlP7gwfsJgJEBzWy50yj5ySZo7PZ66QBVS9x+p+FkH3n7+o5gY9Roc2LS0oDd/7+P\n",
              "bOFj2z/X401WXY+Di28dFSOCCxhMHOUUMKAzNhcwXdHfu5fLyo5FV8/SOUfMVXG32oH3tM5u+weY\n",
              "AMTmMV2bwv+Pf+h9LVWdS3BhnPrzfGTA36+FdtRRCDwZS8pXHc17KzUfHWrO3UPBWiiBAAAAUEGf\n",
              "kEUVLDv/ADvEth3qbWCV6Y/B0azekSJHW6D8dOhdZHU9Pp23Rf3uapncR/JwABcgRnfmY4LOOJsg\n",
              "xRvFsN9y9JroIYfstefOzNlGQoFXAAAAPQGfr3RDfwBWUJva5lwRf7puG/LxJonIQ5ECDddk7Kz9\n",
              "TY6O+PI02J/vAtiZxHtG+o77Z0yWV02FRNE7Yb8AAABCAZ+xakN/AFZfsi+JtMPKW2bQZpmvh+4s\n",
              "V9QkF3Tb4h7AYuOUAH89Aca7M1gSgvaaOD/6FQw45QYDnEml+zRC/E3BAAACWkGbtkmoQWyZTAgj\n",
              "//61KoAG+inV8HLgCpDqF/CDOv6EvpdfA4SJhkEiSk1hl9xQBW5bRBx5SZqRSDS+QM8IJ1vWSXWm\n",
              "921U4cUtK2/NS2FomdJdIxjEZc8BgTtBeO++hbQWu4UhYI2vPBGuTTIEHRr7z/khYAd3TmRoUg8Q\n",
              "R2Z8tZAKDVr0g6NDB0+pRmuTrwkF89ILjBB49x/w9XWE6JH1etaFesf0VF0GnUDoFoOBwY3y44jN\n",
              "sCcEm6FRXxaUuat9yK0c0c7CQdxrxPj8UhxhXIHipiOB/PX9UgLlYektSo0cYMetDnsz1BgrgXFk\n",
              "S/jrI5Rsn+zBgibsbZJKq2hUwQy6DiQlZchLi/+J+7a8zFOpBkJLVpTREPMe877GVFlo+Tt4BtPu\n",
              "mfEETPkQQKYpxAY4ZfcZI8wtSyraxpwIS1cBARuqe26VJt1k8LnTUbElH0yp7MVuuhbP48RBKFhn\n",
              "5SL2iPfKBOCfPY2Trz1X0tQeP3TpJzcZhK5bapBs11N8k3NFj9C0P7I7uvV2/JNTKnwTN2IfhLbA\n",
              "YBdSBODoyug3hdHK3Bkx1EnkWuSpZTaADFsOcezRIEChXzz8tQ8ai71DUSgw/xc0+7yDykrvCCAZ\n",
              "H1qvFMuKTgiBkpu8wYQywm/X6/ZRULJX6ss/ioF09nypkcanynBDe8dbDUBEyC758YJ8MHx+VCbL\n",
              "kfSD2j5qsfkAA6g0K82w2bR0kheMbBP+l07bCyUcxTlvUdCF7dZ6Hs+Lz9RMoa3wnJknwz5DYpvJ\n",
              "vcdr4dZ9jv0ygMVb69/DcmywV1dwAAAAU0Gf1EUVLDv/ADvEth3qbWCV55vG5hvlPzwNRlR75zC9\n",
              "i83H8+Dpzb/FtsPGUtZIAVIesJKQQyfrw70va4387ROwavtOzvFkJ3/px51/AvTDcYVsAAAARQGf\n",
              "83RDfwBWUJva3K6MZ886ErW8xLXsn97jhKeZFLlXR0M1B6i8RLznaC/Tzr+qJkx/Ao9X0mj+NcyR\n",
              "TDahsqgon14yoQAAADgBn/VqQ38AVl+yL4m0w8oNpC22EmPlcHveFYwCu/4urmspN4mVGFzXIlvr\n",
              "T/p0HFj1cfWnMF6VSQAAAnFBm/pJqEFsmUwII//+tSqADeUzlQfgM3wvgy4d0vamNh12wdl4j+L4\n",
              "3Ucoa1qNH53gDJnKdaCAjsefUa7H5SnvsPnXrPJHtIBdk82uze9J+2VP2LNAczaUa4FLJFr/ZYvh\n",
              "3uZM4Rt2SA6R1Vwz+7sLqVbF/BhMX0I9bUj2vLaIQXdKdFAPfHOfrkZR1N9v1/vOyGT0bQXKLadY\n",
              "sEDQgt++oaLkUYhFSPUl0y/78ShjqDuV+cv+SCxbyUyHX9NP5T2kTMaeJqGePwcb9wvR2rfsUZrW\n",
              "em/AY7dWKS0H9PjbkFF9ib8bAlqu1ohjGkoYPNRpGkoLahUc8rLoKTGih+bsR9DF/9yaaAhDFq9g\n",
              "piiCnz3lAEPpVVqMkgZ1ZYmfUyy1nGeNAOagXiomHGlsS/3e3lb1+/U3SBMhIuHOyyj0B/YQD3zx\n",
              "Et0nFSRWYjrc3VRRJ9ZBUFcpA4KEkFmkU6G5oTPKLBC0Ubioev2N7IEuePajizlGurYu6XJCZx0a\n",
              "UF/lQSffXX54pq3nW8Ngx0o/cg2mzmmFntsBRAOeSDR/TbInpwL2ZHZXGzGrVnzs4bri89c1tKgn\n",
              "EfR0hz4X8ttBEwtPlIajx/95fgxYP3LGcS6hrBk2Xjb9lFRM3NdBsVkcpPcYmHNvWBojqr4ax/Nc\n",
              "/49dVRyuRXQim+dAziDKD+FJyRtV+8z72pgvak3v123vCGe9ZKzsDMWymY+8gZ33dtoR/1RgrtuM\n",
              "v4W6xRdBniwwu/nM12nC5Tjk3QgC9wHLsirHNXNZkn/xMcmLQ5Fr7A6dcjsysr+DUHZMQLGUFsOR\n",
              "dLj/STc/D5qPNTRl1p/BAAAAYEGeGEUVLDv/ADvEti+eY6h2foPYKFHsdlvu+dTZF8a0cPMrIxJq\n",
              "TiB5r+fjpACWoZhxwg9plr6mMV3NcJp607/BovCmrDGrQqwcfhsl5HxVeJjjFjLx8M5hVH85g6hb\n",
              "+QAAADUBnjd0Q38AVlCch8vKXZGQ4sxJhpUURPaTQT88GaG/aOZKlgoRZSLwu12ZqTxCXsyPWncs\n",
              "XAAAADwBnjlqQ38AVl+ypn8g9WYFy6MC1pzdzJ6RumGoYcDPtsCJrsS2abVxcMQ3328B/+LGpStV\n",
              "XEsS/3+kJjkAAAIzQZo+SahBbJlMCCP//rUqgA3nLufeoBPeTJQTf6GPPv/BHuQOAW8wVFZUWyWd\n",
              "rmHdwgKcWZ6lAmRcxuHnUjowWJG+rEmVq+Yzn6VgQLzqqP3a6uIlQJtorJrOzwuwoqReXg1QEKTO\n",
              "z57CMR8UQAbHfFdCdijw0d4HG1GdV5EXJu/d+b9/+Mw8SS6pmHoiI6M6QCbfQaPR94AXsjd7Ijuj\n",
              "kar2/JTs7zKB1Y68+qMtPx6rEOxeEEUFds1sv/JjFo4Tsjkp/hNY/IfPfDPBP+YzhjotLbfKjwGn\n",
              "eJEX/nIxWyiiRT9Txi3huUun5wxB6jv9CT4E9ZtDM+jXo1/+CBTo/q/GbsgcgtkgcbisaZvprTqK\n",
              "F37sStP5Nty2ZeKfvlosOrdCFArWgMy2hJjxiAVnzh8bZ6ztf0kQkjisvnx9pw/PmZNfzmikInU2\n",
              "CMmjXAZ42sARK9UYNq3SgDjqWaMgYI2cW+dwK4/5E/3vi7+mgynosnpHi8AC8JPTNhzwEBLeAue8\n",
              "KU5H3BDOLqVg48edOkyJm8ls2syETkVzsovWlWwXXcl6ti4QI5Gr5DF2b2nHwHYbzoIGV/1stm9+\n",
              "FqkGP5yZthtFfww/NdgsB1Nnn8o1z2kCNl/+4QxG5c7uc9HXDvPe2H4n0+/1UDxu5xxkcxkv+R3p\n",
              "t88vlFpP70ne6YjN5UVkAes+ugNHd0N+9RpU7fPhW57O5ezvWSxuJljmIkTmGUC6/9+a/zS/ctXl\n",
              "QOmM4sAAAABXQZ5cRRUsO/8AO8S2L55jqHZuoXS+UIX2YvnT0nTVg6MzTQmcynFZm2JyRAnaD1Ed\n",
              "g/YXDsdrFlR7pEhJRYvNTlvu+ter7mbJrPDRguxmu4emibfNaWPxAAAANQGee3RDfwBWUJvIJtTS\n",
              "V3W5wnypukO1DYCrlul+MleuFyVC4J7Uj91FIGMaWShuAacCcjJhAAAANAGefWpDfwBWX7KmjqR1\n",
              "AsCWb3KWQxUwRIgFb5qFaK3DUNZlZ1Jpk5sHxGpOJ8TTX6Hn0nAAAAIjQZpiSahBbJlMCCP//rUq\n",
              "gA30JDisAER+5+TebcoNhseA1n2UYqStLyN74OkWrkA1M1JuxwAX/IjE4y7s44RhFFEcTJHJUJet\n",
              "3o3yeofX4rirmkCwzaB7iISQOHVSXBryNS9rI38AbEVHtvgUgdmpYJC8+uwG8hYImiLznSt8Bsfr\n",
              "qK7mPUOr1COSlMmW//+Zdvwmt33+x5/KPq+zRjGUqvnV+N+TxcjwGGKqQlcEEo9O6GjDnbuX1nny\n",
              "JpD3thSVmcPqy/s0iPSiS23sx21MghnJB/6HzntsuCr2wenmh1R34rqCjfdqhzJCvS9M8FgKHDbb\n",
              "FogZyZSHMEPMUTw07ycs7kPOdsfRd3O2Mv8CVF3uQUhgyiyvsmxWgWaL4El+LtBHhqxwSUcJBuyF\n",
              "FH/4xfEZbKkn+qgI3UjJpgxtIDj3A19zWKT344RBD63B3Kejb1rTdVJnbG2KWo6aQ+ZV1pDI+rnu\n",
              "gXgSvTOQMr1feigQ3p523fVw9ZW5yVNTNufTMumqEebusYAyQF3W1ppsFXz5gipgCy4A8yGqyih7\n",
              "vv/U9LsLSWqYTiCfeI/O3fdsCv/MDvYcjSthlmgn9/v9tg+pH57hNcGGl8VJwcmF2vNptzMWg7OO\n",
              "4poZx/bV3qiuHkyhzsNomwuWjk0yrGRlEZxHd5goI53h5FvzV12RF9jFRB1rO0IY4VdfFIreVZ/B\n",
              "E4QN1+uK1ruuZjqmrf8OKxCnkAAAAEZBnoBFFSw7/wA7xLYvmcSNXiUUs1oyzvdUfDYonpp+8FSh\n",
              "e65JJbUg3CM0dOaVHx1WQSxiNzG8b3//VAa6NhNM0Qq8Cpr3AAAALgGev3RDfwBWUJvIJtTSV3W5\n",
              "wnl0f0Qc5W93ZjJQx5rXx3VZ7MWInOqj5Fx/LKgAAAA4AZ6hakN/AFZfspqyZnLmvEg3oKy+vroN\n",
              "xKujrFTzyLVVR5/ATgtC178aAlwJnl1FCbzLyGdZQIEAAAI0QZqmSahBbJlMCCP//rUqgA3nL2/J\n",
              "wBfp82QzSvM1+R8XwC711/EHYB1ddYZTfhd55pSdNQGRFvRkoX8jy11UddTgGjhgApVA6Ey5C9yB\n",
              "5VVoAFmeSNcustMCQLqYhLdDEmvPmkqLQqu6l/984d07KnYo00VFnyY5v1gcoxwtMZVnU6GnP326\n",
              "YocKagggQgu4lD5bIhEdo9vKpCnJmH5SoQrHaRbv7Wtq/3I85AFxzJm8mRGSSRletjY9pboV7ODT\n",
              "/jM0JkwAJ/8lI8hR6AwqvK3NmTgSOXJ3xdqO72czISWm0qV0yn0k0FDYo55ARdlRsmZCx9ZngQqh\n",
              "DRRydzLATWTCvsNev36BB4+SdMG3KOdgNIJ9CAnDG1Ni07oy4xa4tucG9cMVOVJ3gkx/fHy6EFcN\n",
              "zAZrH9UwZOFy8+UNMVV+DWvWxGHTH8dUizM+ylFfCTvGC3hMDdLhZPlAB9kwe6IxFqQNeeIpKpA3\n",
              "Cqfo7OmIHBnmWRARf3o+72KSdHMyLgeOWFQhhanwfgLOMBsBVtg7uhfaTAxSBtfRKSwn3pet5XjE\n",
              "HQWShAEFT32az1M01QnbMNGK8q0qQ5Lg5xdL4dZ8mv7LtH8bRVRels3FUshm4JYSQfKLbysgaOxI\n",
              "zCzRmx9AmxdFMBuNhcxX4S5NqAVXAjY/R5zVmTtovk8UIwXfRuq8Qd2tS6k/X8t/JP7RBTM/vw+E\n",
              "a+P3bi4SDBq1xQxA+QlbrSUOHyhVMTzhvDLmZSFAAAAAXEGexEUVLDv/ADvEti+xqKDZRVMRIkQe\n",
              "gjbHmY7wGVlHR1qnX9o6BlD8QGb0jYm1J1xT1dRoe8D2FRx8Mj5HRJsHPQIJU1dpq+6LBHx56vDS\n",
              "UFwmC9xVCOaH3eSBAAAANAGe43RDfwBWUJyHy7ZatyZbU/yX6Jc2mMLgyOMZ0PGS2Y0RqpFqDi49\n",
              "7vvcYuJc6C4vqXcAAAA7AZ7lakN/AFZfsqaMP2U6HNgy6fYgIW2LKSUx62+mosHOJIssZT14QZTS\n",
              "ELOFJH6SzKDxrHQQpiFuOJUAAAHcQZrqSahBbJlMCCP//rUqgA3nL/CQgAiEvaDb9bJZD7Luc6sh\n",
              "gStvjklTChrHiNOPN7gj5MTH4zfQONf/Qwniv/vsYmpn8GftSF3J8+rjpmDTCrsXZ7EwcIu2/h7M\n",
              "a4Ptjk5by8Qmdl7HSSzlq4K2Lwj9s/J54AF7UwfeE5sKyPPy8/Vf+2vlx8loYHEpHGsPSjMpSb7s\n",
              "Jev4hqdIKCNwtEXN2Hka1kHllrSZrO8eHsJhpMwjl50biKJU94lWnNnx6YjylSvI9ZjUaCqsRofx\n",
              "LCVO01gdjy2N8MMKpZgsY96OxAigA7+TEjPwE51nQb6bub0/HDY6Zpu9ri78xa5SpuRlLlV6BNv7\n",
              "24zbvbN39RiGwO4dfQH0Ub8kc3FaYV2Zz0DWz7DGIhd9Ty1TxuA+Zlje5ywjdLjMOn79dO9rKB9I\n",
              "y/g7CW4F0TJZ3jxhr5xKx4hKva0iUR9NAaIRVnWMEb1DSeJMObBVmC+j50trqI/VMENO2toxFFyB\n",
              "0UKxyKBzAjPp/zwa2BHybuA5jGJxE+A37IAAozjPlVeDnN64tjDMC8PX0COP08L2V7R44BLfILC0\n",
              "38BcKhVBT89fZX2EZDap322zjz4BV9AZ7ueXZ3w/E7ARd7YJa1AgtPkAAABtQZ8IRRUsO/8AO8S2\n",
              "L7Gw9AguyuJLXf/BNSMKAUVaHqLE1wjI9J8XCwicwE8h2RM7XCaXkvY57N7GeCR2oN7p46GstuJj\n",
              "1TI9kDltPYRLDDuTADOf03WkHXUCscXoleZXvADxVUED1Mojl1L0jAAAAFIBnyd0Q38AVlCchnPN\n",
              "QAw4GfWTxhEP/gUFUr7U5Tz56OdnpSF16yeqMpylfpEiHws1/PrLrn8/2lXlWV+/x3cL3Ip/yiSE\n",
              "iUtDlLaK4MEfjVHzAAAAQAGfKWpDfwBWX7KnDlxs2+nETr8KajMq6QVpNIyovzQ0z/OzG5h/1GjA\n",
              "1Shxj/j+D50Pl2Q3UyLAhUOfaoxlSBkAAAHGQZsuSahBbJlMCCP//rUqgA3nLu+QgAa519aAuVgs\n",
              "M14QlkAVS2axr9oyesos4axf7NoyaVIdF2MpYkj5f2ygjjQ4kQRhgpgDCLtaVNvjwuIlIDEuKoeD\n",
              "maxWGDDBdXTcOVlVD3WIq2xbhI5z/XC35vxTTZwOvNPbXyxgZvr1LNevOHqRCHl8v/Y24pg4seVP\n",
              "N/W7ZuYp3jenx5076+/VOKjLzPsHMpE77rwxat5pkY2Xv9zBv/nOlIk3MThIcOgAoRTl/rBuxxTH\n",
              "Ddzdpsw/+I3xVhRN5vibg7EsFpKQj7hUfUQxa/K4bumlrMNy14QmCqSDjNCXUxiHke852p0GO3GO\n",
              "G2VrFkfeJjf8lVm6rYmWhcxNHFLuw38iCXMgJqW+cGBO1+I7J3DDtKUFnj+HztoneatMZTLbgW8K\n",
              "ss3mGa+S6hg3GxYtzs9rdeOd/w+Z02wtccY8XLZ39yNQWZAIxuDM0+HdZbfmBmemO9TgDKBOw1M/\n",
              "tJTiA3cTS8QRcRRHOr8JE1erbJX8RB/QmSl2x8PO1b5+fFTLejo1FqHOujMmld23cYmD5EbPKYcZ\n",
              "bDfVql5AyjY0cYzucTfoJ+6A0k/4cUO+IAAAAD1Bn0xFFSw7/wA7xLYvmavjYBNqsoJQaEljai1c\n",
              "pHnCivkP0F/pL/ENGuwwkgRf2wDIYFQjrAi8Q/Q8MWm4AAAATgGfa3RDfwBWUJyHCpydG3aCat7A\n",
              "+5TIV5HpWtyT8s3775ik02v+K3dahefRNo8cm6cPiUs4pxNadi7Iy2fDfoKqtucZcESLfRSrG9D/\n",
              "AwAAAEwBn21qQ38AVl+ypow5FUFLKDyjsqjKRw/t8x/YB1P0+D1hxzswdT+9kIC4oYm8sfusIScB\n",
              "cKWio5udt1B5DKc+CJoo+gZ6Y3rWHGfnAAABfUGbckmoQWyZTAgj//61KoAhCm3Ms3ggF/1ADjUy\n",
              "qRopvlSKv8slDlrZSCYhmxsu2LA7cK3EOKP2WWVDUwXx6OHrKrAJokQuKtNtm998oIfAqLizwdz7\n",
              "AIU37KgrEJvTypdBPG6oHkNkJ1MM7hEop4yyMAWww8FXUtiLd+OXD7HdxVSG15G4Mi73l2BOHydC\n",
              "aCgc37VpHpqKUtCIr2c34ycdxVt6GSf/DmxpHHJJmTbBFhDwPkxbqvMD0XPPap9wbni3ka9DaH54\n",
              "MUsTX5SGSZMmIFgK01fnHpB8BdZZFe2yAd2IyiJX+sWHKaiUhC4vKlQvlC86L55otPWuWkT9f775\n",
              "Y6fyHlCArvrkWcbEjgLzdbFfo4cndR7oWSart8ILho4CNDZP1tgu7TipSWZg9UXDCWuB+tqtLTw4\n",
              "y2wcXIZcBrZjQrStB2MnOroOFReKEC76GB8fSnIjgAZhNHuWDmdpMK7mfXqyeIjpFonAqcH0ECiI\n",
              "H9EOiirlLCxnwQAAAEZBn5BFFSw7/wBs8NQAcWkN/dT4ujkJlILNruzOhlLe0lb3I5OPF45TmLd5\n",
              "9deiLnmpQyXItXAQaSkr1B9DR5CsVUekBPzAAAAAXAGfr3RDfwCbXkcKvCA49HoZuDZFvFj88jRQ\n",
              "vHNOI7kOzzlWWlcW1Ms+cdMaSFTWmo8LeUYJLk+ZC4RYLTV8LGW5QZ/D+Fzb9HmqLR0ywWc0Is7q\n",
              "ae2kTy4U2JaQAAAAWAGfsWpDfwCa9qDgPkOfnF/LUl/tokLg/offS1bQ8P5ymHFhJurfFU9xnVkV\n",
              "dI+MwljtE9pV+SnPTwZuumFljnlPbHMBeVY+NUCbzyXe+HHekkFo8WZ73D0AAAFgQZu1SahBbJlM\n",
              "CCP//rUqgCEKdOq0qySApHM+gBBexdIKIM+uSHGPCrM612XIfF79FgQPHfDK7EY2Zwc9gWTDRVFG\n",
              "AaUsc97qvXO3ZSUYv/BKy1jYG+kfrZXo1t2p5JOZ/pIUVlyecbhBOvskCoV7Qw/eei0rX9r58BgC\n",
              "HHcj+M3+zCu4ennF3XCXT9gevBVu3vyP/aX2EHpLAeqD1IjgwHtzCu3X7m+fZRRL5DX4GaiaLOy2\n",
              "yyE2VqqXBU0wq+EO0W/C67mgD29kQM6sMildMiMamozPqRuuoamRAKYhp+xcsMWEH22C/VKJoVym\n",
              "LYKipsL8qjUKAQQwT0ZQ39U+5/W02Z41zvD87mUyg73sH6DZL06kDkQLXBG7ltw5ligY1lqN7LUp\n",
              "ft6CKmxx1Mq+yCHzdN4oUrXkJf7zcpTr/X8p4jWHrgng31pXbuYmW/CBe5FCeQwfqyboh5jZhbiH\n",
              "0AAAAENBn9NFFSw3/wBLcspKgw61q79tnB4CFCAHKJ1Wu9888JsRWrbUWgoIAzQmxl9q+iC8XKCE\n",
              "lBN+Fd11pHVtBAu0tcdIAAAANQGf9GpDfwA2ABhbhIAE8bqAwMbD2T5xsHVONakqIxbTbZIDyKtL\n",
              "jnuPa+IlUvsBBdydYnlRAAAA+0Gb+UmoQWyZTAgj//61KoAhCnPcJDMYWTQci5j8ADk8lMaSp12k\n",
              "jlxfKGJcC6RvDWxK4iU4grf1r0GfX+c85pzWylK77Yew+hhCsiTILx5brYniHs40CIlTsculEUYH\n",
              "PeMFpkA2VQGB97v4TzjeuiLtvC+o/BijwuRVKpygOnL5nOtljAF6c0UT2I5t9TD3Tr2KsCiYcsLj\n",
              "pjFjIrBEnsvKkNysIi8OMYjTPTUYGSBdF+ybMRqEEycpVTA0al713qWVWQp+1BKxPBcHOMv61Bah\n",
              "bXh8NljtwFhUZlv20g9Bo4cJMocBo2qEgdKQ/mn46+XaUe8cvtCp6YHAAAAATkGeF0UVLDv/AGye\n",
              "NEUY1OvkkPdp7z5oTBNZIiTgTKnZKwy1As/fAAf/4jhH65BlZGKoKWtjCubpk0QbdJyulEC3OI10\n",
              "mNok/bqyfcg7OQAAAFMBnjZ0Q38AVlCb+x72KG+H7SPrgyevLTi33Jap8+y40iIm2jSUBmR3nBxS\n",
              "5GwgUjVy2kmhDP89Lf8svpAvSn2qviB8xSlUU3CXmV1WehpFMRf1sQAAACsBnjhqQ38AVl+yKls9\n",
              "5P2jy0brAhgxVH0/vRnIZ5N8xsMFIfA0/6ina8RcAAABJEGaPUmoQWyZTAgh//6qVQBB9FTMJ//S\n",
              "w7dGgeBiOudvjW7xmhbd81L7gDdd/m4ok8xYIKHKs7dDP/feY9lkMdoiDHLaaFxWNaYJQAEkzVT6\n",
              "9BOQEwRdxiKQQkp/VQdbMb8SmaAghUgJzG5+B+fNMiR41XLTnGT5laKKsBKv0LPUewlLyI56qkIX\n",
              "TgOCwzNZPhTo6DNDnKBbvFSsYqpfBPNpZxEG9Gk083N6RZ3NCdKTm4umtlFaqI4v7d9oCwra86qR\n",
              "xkKdsMNROH7VopdmB+8CSE8znHxntXhaqrT/zwALE4txKEQHolMcYTVge0hzKim/XKNUQ4h3g6b+\n",
              "YLa98GYx9iBxXqS5hfCJg5wnuF0jwcN17pzp5Ga8Ju78szL8YDgO0uEAAABcQZ5bRRUsO/8AbFq9\n",
              "RTTsLPJixYrHYgrM9/40ShiDNBpnS33iuYikOEALfDoKi8HD8qGTWAW5HyY4Twy2tw/fU09Q5fKC\n",
              "U/pq4yJIppLw4Zgm5HTleutJ8phWXUgAAAA+AZ56dEN/AFZQnIexMXd9/RO1181vRKRKH9Z6o9QX\n",
              "rhle7OiDrJ0ccWDkG0JPWuzhnAILQUuW2ftRKzGawIEAAAAwAZ58akN/AFZfskbSeMwZkjmipDPw\n",
              "ST0+i8eJjVZdX1p+2SzGkWNDTRqWBtGQRNFhAAAAqkGaYUmoQWyZTAh///6plgD67gjlnABOtVEv\n",
              "upCzNIIWgf64Qjz6PJzskijEggpNmaaaXn59IeQ1cYmEsGN/Icm9SuNVUzTkCyG9nmfKWadSTu7B\n",
              "FU7k9VliCzU53mXzrTdsDtNdNnzMkrDW2JwpcKsxLIR4UFbv4sl8fKERZP2ksFA8vZ6SiqDA3NuN\n",
              "mYBcmOHfpeEewhv+r64CuyJDIDkg6+cXjpUtDamAAAAAUUGen0UVLDv/AGt9uiT30AD+MdKDv62k\n",
              "NGxv65ltjVt8URWz4RHNJa0OFLR5udgvL8dGHG145znN5Ss/+ydvrAq4JGolfHVbXMolGl82uG3+\n",
              "FAAAADUBnr50Q38AVWy5as2SNWSBTGYqgd1haX5MdxpPmZkQOZjYmKSB+6YFBZLYbCmaA8nmSopZ\n",
              "OQAAAD8BnqBqQ38AVWy5a+Mu4SRJ9kEm8kOrj2DahAvPEmcjBrwehlA6xPK339AGy5SF1wYV4psl\n",
              "KNBaqH5SsZhovHAAAABqQZqjSahBbJlMFEw3//6nhAHvcxGFIAQhrUrv+uGmN8G2ajqmADDfM/Ri\n",
              "pnFKNmFuKN8M0yexI4sYzvEkznppLrgWbXl2CO6BbKt/M9ZHvgzgEzA2tYHp9CJL916OCof/Tbtf\n",
              "cwbEAVyriQAAADIBnsJqQ38ADTKbF9k627mjLRLsGphmVsYVV6EZAowsdkb8k16YD8YAbvFsGoi8\n",
              "NKCggAAAB6Ztb292AAAAbG12aGQAAAAAAAAAAAAAAAAAAAPoAAAnEAABAAABAAAAAAAAAAAAAAAA\n",
              "AQAAAAAAAAAAAAAAAAAAAAEAAAAAAAAAAAAAAAAAAEAAAAAAAAAAAAAAAAAAAAAAAAAAAAAAAAAA\n",
              "AAAAAAACAAAG0HRyYWsAAABcdGtoZAAAAAMAAAAAAAAAAAAAAAEAAAAAAAAnEAAAAAAAAAAAAAAA\n",
              "AAAAAAAAAQAAAAAAAAAAAAAAAAAAAAEAAAAAAAAAAAAAAAAAAEAAAAABsAAAASAAAAAAACRlZHRz\n",
              "AAAAHGVsc3QAAAAAAAAAAQAAJxAAAAgAAAEAAAAABkhtZGlhAAAAIG1kaGQAAAAAAAAAAAAAAAAA\n",
              "ACgAAAGQAFXEAAAAAAAtaGRscgAAAAAAAAAAdmlkZQAAAAAAAAAAAAAAAFZpZGVvSGFuZGxlcgAA\n",
              "AAXzbWluZgAAABR2bWhkAAAAAQAAAAAAAAAAAAAAJGRpbmYAAAAcZHJlZgAAAAAAAAABAAAADHVy\n",
              "bCAAAAABAAAFs3N0YmwAAACzc3RzZAAAAAAAAAABAAAAo2F2YzEAAAAAAAAAAQAAAAAAAAAAAAAA\n",
              "AAAAAAABsAEgAEgAAABIAAAAAAAAAAEAAAAAAAAAAAAAAAAAAAAAAAAAAAAAAAAAAAAAAAAAAAAY\n",
              "//8AAAAxYXZjQwFkABX/4QAYZ2QAFazZQbCWhAAAAwAEAAADAFA8WLZYAQAGaOvjyyLAAAAAHHV1\n",
              "aWRraEDyXyRPxbo5pRvPAyPzAAAAAAAAABhzdHRzAAAAAAAAAAEAAABkAAAEAAAAABRzdHNzAAAA\n",
              "AAAAAAEAAAABAAAC+GN0dHMAAAAAAAAAXQAAAAQAAAgAAAAAAQAAEAAAAAACAAAEAAAAAAEAAAwA\n",
              "AAAAAQAABAAAAAABAAAMAAAAAAEAAAQAAAAAAQAAEAAAAAACAAAEAAAAAAEAABAAAAAAAgAABAAA\n",
              "AAABAAAMAAAAAAEAAAQAAAAAAQAAFAAAAAABAAAIAAAAAAEAAAAAAAAAAQAABAAAAAABAAAUAAAA\n",
              "AAEAAAgAAAAAAQAAAAAAAAABAAAEAAAAAAEAABQAAAAAAQAACAAAAAABAAAAAAAAAAEAAAQAAAAA\n",
              "AQAAFAAAAAABAAAIAAAAAAEAAAAAAAAAAQAABAAAAAABAAAUAAAAAAEAAAgAAAAAAQAAAAAAAAAB\n",
              "AAAEAAAAAAEAABQAAAAAAQAACAAAAAABAAAAAAAAAAEAAAQAAAAAAQAAFAAAAAABAAAIAAAAAAEA\n",
              "AAAAAAAAAQAABAAAAAABAAAUAAAAAAEAAAgAAAAAAQAAAAAAAAABAAAEAAAAAAEAABQAAAAAAQAA\n",
              "CAAAAAABAAAAAAAAAAEAAAQAAAAAAQAAFAAAAAABAAAIAAAAAAEAAAAAAAAAAQAABAAAAAABAAAU\n",
              "AAAAAAEAAAgAAAAAAQAAAAAAAAABAAAEAAAAAAEAABQAAAAAAQAACAAAAAABAAAAAAAAAAEAAAQA\n",
              "AAAAAQAAFAAAAAABAAAIAAAAAAEAAAAAAAAAAQAABAAAAAABAAAUAAAAAAEAAAgAAAAAAQAAAAAA\n",
              "AAABAAAEAAAAAAEAABQAAAAAAQAACAAAAAABAAAAAAAAAAEAAAQAAAAAAQAAFAAAAAABAAAIAAAA\n",
              "AAEAAAAAAAAAAQAABAAAAAABAAAQAAAAAAIAAAQAAAAAAQAAFAAAAAABAAAIAAAAAAEAAAAAAAAA\n",
              "AQAABAAAAAABAAAUAAAAAAEAAAgAAAAAAQAAAAAAAAABAAAEAAAAAAEAABQAAAAAAQAACAAAAAAB\n",
              "AAAAAAAAAAEAAAQAAAAAAQAADAAAAAABAAAEAAAAABxzdHNjAAAAAAAAAAEAAAABAAAAZAAAAAEA\n",
              "AAGkc3RzegAAAAAAAAAAAAAAZAAAE5kAAAS1AAADMwAAAp0AAAQPAAAAngAAAGQAAAJUAAAAUAAA\n",
              "AikAAABRAAAC6QAAAGkAAABLAAAC/wAAAFoAAABKAAAB3AAAAEEAAAKmAAAAZwAAAEMAAABCAAAC\n",
              "iAAAAGwAAABGAAAASwAAAjUAAABfAAAAXwAAADwAAAJHAAAAggAAAEYAAABmAAAClgAAAGkAAABM\n",
              "AAAAPgAAAoIAAABYAAAAOwAAAEkAAAJEAAAAVwAAADsAAAA/AAACIQAAAFQAAABBAAAARgAAAl4A\n",
              "AABXAAAASQAAADwAAAJ1AAAAZAAAADkAAABAAAACNwAAAFsAAAA5AAAAOAAAAicAAABKAAAAMgAA\n",
              "ADwAAAI4AAAAYAAAADgAAAA/AAAB4AAAAHEAAABWAAAARAAAAcoAAABBAAAAUgAAAFAAAAGBAAAA\n",
              "SgAAAGAAAABcAAABZAAAAEcAAAA5AAAA/wAAAFIAAABXAAAALwAAASgAAABgAAAAQgAAADQAAACu\n",
              "AAAAVQAAADkAAABDAAAAbgAAADYAAAAUc3RjbwAAAAAAAAABAAAALAAAAGJ1ZHRhAAAAWm1ldGEA\n",
              "AAAAAAAAIWhkbHIAAAAAAAAAAG1kaXJhcHBsAAAAAAAAAAAAAAAALWlsc3QAAAAlqXRvbwAAAB1k\n",
              "YXRhAAAAAQAAAABMYXZmNTcuODMuMTAw\n",
              "\">\n",
              "  Your browser does not support the video tag.\n",
              "</video>"
            ],
            "text/plain": [
              "<IPython.core.display.HTML object>"
            ]
          },
          "metadata": {
            "tags": []
          },
          "execution_count": 168
        }
      ]
    }
  ]
}